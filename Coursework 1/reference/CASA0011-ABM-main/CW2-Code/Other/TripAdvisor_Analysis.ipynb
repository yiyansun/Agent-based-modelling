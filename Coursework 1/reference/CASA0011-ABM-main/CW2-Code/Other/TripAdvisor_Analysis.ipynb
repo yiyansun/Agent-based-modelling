{
 "cells": [
  {
   "cell_type": "markdown",
   "metadata": {},
   "source": [
    "The Analysis of TripAdvisor Restaurant Data between London and Paris"
   ]
  },
  {
   "cell_type": "markdown",
   "metadata": {},
   "source": [
    "# Import package and environment settings"
   ]
  },
  {
   "cell_type": "code",
   "execution_count": 44,
   "metadata": {},
   "outputs": [],
   "source": [
    "import pandas as pd\n",
    "import seaborn as sns\n",
    "import numpy as np\n",
    "import matplotlib.pyplot as plt\n",
    "\n",
    "import calendar\n",
    "from datetime import datetime,timedelta\n",
    "\n",
    "import os \n",
    "import scipy.stats as sps\n",
    "from scipy import stats\n",
    "import statsmodels.api as sm\n",
    "from statsmodels.stats.outliers_influence import variance_inflation_factor \n",
    "from statsmodels.tools.tools import add_constant\n",
    "\n",
    "# os.chdir(\"E:/200_CASA/07_QM/QM_CW2\")\n",
    "# os.getcwd()\n",
    "\n",
    "pd.set_option('display.max_rows', 300) # specifies number of rows to show\n",
    "pd.options.display.float_format = '{:40,.4f}'.format # specifies default number format to 4 decimal places\n",
    "plt.style.use('seaborn-whitegrid') # specifies that graphs should use ggplot styling\n",
    "plt1 = \"coolwarm\""
   ]
  },
  {
   "cell_type": "markdown",
   "metadata": {},
   "source": [
    "# Load Raw Dataset"
   ]
  },
  {
   "cell_type": "markdown",
   "metadata": {},
   "source": [
    "This data can be accessed in this [kaggle](https://www.kaggle.com/damienbeneschi/krakow-ta-restaurans-data-raw)\n",
    "This dataset has been obtained by scraping TripAdvisor (the famous tourism website) for information about restaurants for a given city. The scraper goes through the restaurants listing pages and fulfills a raw dataset. The raw datasets for the main cities in Europe have been then curated for futher analysis purposes, and aggregated to obtain this dataset. \n",
    "\n",
    "Dataset Limitation: \n",
    "The restaurants list contains the restaurants that are registrered in the TA database only. All the restaurants of a city may not be resgistered in this database.\n",
    "\n",
    "Included Cities:\n",
    "The dataset contain restaurants information for 31 cities in Europe: Amsterdam (NL), Athens (GR) , Barcelona (ES) , Berlin (DE), Bratislava (SK), Bruxelles (BE), Budapest (HU), Copenhagen (DK), Dublin (IE), Edinburgh (UK), Geneva (CH), Helsinki (FI), Hamburg (DE), Krakow (PL), Lisbon (PT), Ljubljana (SI), London (UK), Luxembourg (LU), Madrid (ES), Lyon (FR), Milan (IT), Munich (DE), Oporto (PT), Oslo (NO), Paris (FR), Prague (CZ), Rome (IT), Stockholm (SE), Vienna (AT), Warsaw (PL), Zurich (CH)."
   ]
  },
  {
   "cell_type": "code",
   "execution_count": 24,
   "metadata": {},
   "outputs": [],
   "source": [
    "df = pd.read_csv(\"TA_restaurants_curated.csv\").convert_dtypes()"
   ]
  },
  {
   "cell_type": "code",
   "execution_count": null,
   "metadata": {},
   "outputs": [],
   "source": [
    "# To see all variables in dataframe\n",
    "list(df.columns)"
   ]
  },
  {
   "cell_type": "markdown",
   "metadata": {},
   "source": [
    "# Overview and Data Summary"
   ]
  },
  {
   "cell_type": "code",
   "execution_count": null,
   "metadata": {},
   "outputs": [],
   "source": [
    "# see the first five rows of dataframe\n",
    "df.head()"
   ]
  },
  {
   "cell_type": "markdown",
   "metadata": {},
   "source": [
    "## Data Summary for Numeric Data"
   ]
  },
  {
   "cell_type": "code",
   "execution_count": null,
   "metadata": {},
   "outputs": [],
   "source": [
    "df.describe()"
   ]
  },
  {
   "cell_type": "markdown",
   "metadata": {},
   "source": [
    "We can see the std differences between 'Rating' and 'Number of Reviews' "
   ]
  },
  {
   "cell_type": "markdown",
   "metadata": {},
   "source": [
    "## Data Summary for Types"
   ]
  },
  {
   "cell_type": "code",
   "execution_count": null,
   "metadata": {},
   "outputs": [],
   "source": [
    "display(df.dtypes)"
   ]
  },
  {
   "cell_type": "markdown",
   "metadata": {},
   "source": [
    "# Data Cleaning"
   ]
  },
  {
   "cell_type": "markdown",
   "metadata": {},
   "source": [
    "It is necessary to be selective to choose variables (columns). In the next step, we drop the unnecessary values."
   ]
  },
  {
   "cell_type": "code",
   "execution_count": 27,
   "metadata": {},
   "outputs": [
    {
     "data": {
      "text/html": [
       "<div>\n",
       "<style scoped>\n",
       "    .dataframe tbody tr th:only-of-type {\n",
       "        vertical-align: middle;\n",
       "    }\n",
       "\n",
       "    .dataframe tbody tr th {\n",
       "        vertical-align: top;\n",
       "    }\n",
       "\n",
       "    .dataframe thead th {\n",
       "        text-align: right;\n",
       "    }\n",
       "</style>\n",
       "<table border=\"1\" class=\"dataframe\">\n",
       "  <thead>\n",
       "    <tr style=\"text-align: right;\">\n",
       "      <th></th>\n",
       "      <th>Name</th>\n",
       "      <th>City</th>\n",
       "      <th>Cuisine Style</th>\n",
       "      <th>Ranking</th>\n",
       "      <th>Rating</th>\n",
       "      <th>Price Range</th>\n",
       "      <th>Number of Reviews</th>\n",
       "    </tr>\n",
       "  </thead>\n",
       "  <tbody>\n",
       "    <tr>\n",
       "      <th>0</th>\n",
       "      <td>Martine of Martine's Table</td>\n",
       "      <td>Amsterdam</td>\n",
       "      <td>['French', 'Dutch', 'European']</td>\n",
       "      <td>1</td>\n",
       "      <td>5.0000</td>\n",
       "      <td>$$ - $$$</td>\n",
       "      <td>136</td>\n",
       "    </tr>\n",
       "    <tr>\n",
       "      <th>1</th>\n",
       "      <td>De Silveren Spiegel</td>\n",
       "      <td>Amsterdam</td>\n",
       "      <td>['Dutch', 'European', 'Vegetarian Friendly', '...</td>\n",
       "      <td>2</td>\n",
       "      <td>4.5000</td>\n",
       "      <td>$$$$</td>\n",
       "      <td>812</td>\n",
       "    </tr>\n",
       "    <tr>\n",
       "      <th>2</th>\n",
       "      <td>La Rive</td>\n",
       "      <td>Amsterdam</td>\n",
       "      <td>['Mediterranean', 'French', 'International', '...</td>\n",
       "      <td>3</td>\n",
       "      <td>4.5000</td>\n",
       "      <td>$$$$</td>\n",
       "      <td>567</td>\n",
       "    </tr>\n",
       "    <tr>\n",
       "      <th>3</th>\n",
       "      <td>Vinkeles</td>\n",
       "      <td>Amsterdam</td>\n",
       "      <td>['French', 'European', 'International', 'Conte...</td>\n",
       "      <td>4</td>\n",
       "      <td>5.0000</td>\n",
       "      <td>$$$$</td>\n",
       "      <td>564</td>\n",
       "    </tr>\n",
       "    <tr>\n",
       "      <th>4</th>\n",
       "      <td>Librije's Zusje Amsterdam</td>\n",
       "      <td>Amsterdam</td>\n",
       "      <td>['Dutch', 'European', 'International', 'Vegeta...</td>\n",
       "      <td>5</td>\n",
       "      <td>4.5000</td>\n",
       "      <td>$$$$</td>\n",
       "      <td>316</td>\n",
       "    </tr>\n",
       "    <tr>\n",
       "      <th>...</th>\n",
       "      <td>...</td>\n",
       "      <td>...</td>\n",
       "      <td>...</td>\n",
       "      <td>...</td>\n",
       "      <td>...</td>\n",
       "      <td>...</td>\n",
       "      <td>...</td>\n",
       "    </tr>\n",
       "    <tr>\n",
       "      <th>125522</th>\n",
       "      <td>Konrad Kaffee- &amp; Cocktailbar</td>\n",
       "      <td>Zurich</td>\n",
       "      <td>&lt;NA&gt;</td>\n",
       "      <td>&lt;NA&gt;</td>\n",
       "      <td>nan</td>\n",
       "      <td>&lt;NA&gt;</td>\n",
       "      <td>&lt;NA&gt;</td>\n",
       "    </tr>\n",
       "    <tr>\n",
       "      <th>125523</th>\n",
       "      <td>Blueberry American Bakery</td>\n",
       "      <td>Zurich</td>\n",
       "      <td>['Cafe']</td>\n",
       "      <td>&lt;NA&gt;</td>\n",
       "      <td>nan</td>\n",
       "      <td>&lt;NA&gt;</td>\n",
       "      <td>&lt;NA&gt;</td>\n",
       "    </tr>\n",
       "    <tr>\n",
       "      <th>125524</th>\n",
       "      <td>Restaurant Bahnhof</td>\n",
       "      <td>Zurich</td>\n",
       "      <td>&lt;NA&gt;</td>\n",
       "      <td>&lt;NA&gt;</td>\n",
       "      <td>nan</td>\n",
       "      <td>&lt;NA&gt;</td>\n",
       "      <td>&lt;NA&gt;</td>\n",
       "    </tr>\n",
       "    <tr>\n",
       "      <th>125525</th>\n",
       "      <td>Yoyo Pizza</td>\n",
       "      <td>Zurich</td>\n",
       "      <td>['Fast Food']</td>\n",
       "      <td>&lt;NA&gt;</td>\n",
       "      <td>nan</td>\n",
       "      <td>&lt;NA&gt;</td>\n",
       "      <td>&lt;NA&gt;</td>\n",
       "    </tr>\n",
       "    <tr>\n",
       "      <th>125526</th>\n",
       "      <td>dieci</td>\n",
       "      <td>Zurich</td>\n",
       "      <td>['Italian', 'Pizza', 'Mediterranean', 'Diner']</td>\n",
       "      <td>&lt;NA&gt;</td>\n",
       "      <td>nan</td>\n",
       "      <td>$$ - $$$</td>\n",
       "      <td>&lt;NA&gt;</td>\n",
       "    </tr>\n",
       "  </tbody>\n",
       "</table>\n",
       "<p>125527 rows × 7 columns</p>\n",
       "</div>"
      ],
      "text/plain": [
       "                                Name       City  \\\n",
       "0         Martine of Martine's Table  Amsterdam   \n",
       "1                De Silveren Spiegel  Amsterdam   \n",
       "2                            La Rive  Amsterdam   \n",
       "3                           Vinkeles  Amsterdam   \n",
       "4          Librije's Zusje Amsterdam  Amsterdam   \n",
       "...                              ...        ...   \n",
       "125522  Konrad Kaffee- & Cocktailbar     Zurich   \n",
       "125523     Blueberry American Bakery     Zurich   \n",
       "125524            Restaurant Bahnhof     Zurich   \n",
       "125525                    Yoyo Pizza     Zurich   \n",
       "125526                         dieci     Zurich   \n",
       "\n",
       "                                            Cuisine Style  Ranking  \\\n",
       "0                         ['French', 'Dutch', 'European']        1   \n",
       "1       ['Dutch', 'European', 'Vegetarian Friendly', '...        2   \n",
       "2       ['Mediterranean', 'French', 'International', '...        3   \n",
       "3       ['French', 'European', 'International', 'Conte...        4   \n",
       "4       ['Dutch', 'European', 'International', 'Vegeta...        5   \n",
       "...                                                   ...      ...   \n",
       "125522                                               <NA>     <NA>   \n",
       "125523                                           ['Cafe']     <NA>   \n",
       "125524                                               <NA>     <NA>   \n",
       "125525                                      ['Fast Food']     <NA>   \n",
       "125526     ['Italian', 'Pizza', 'Mediterranean', 'Diner']     <NA>   \n",
       "\n",
       "                                         Rating Price Range  Number of Reviews  \n",
       "0                                        5.0000    $$ - $$$                136  \n",
       "1                                        4.5000        $$$$                812  \n",
       "2                                        4.5000        $$$$                567  \n",
       "3                                        5.0000        $$$$                564  \n",
       "4                                        4.5000        $$$$                316  \n",
       "...                                         ...         ...                ...  \n",
       "125522                                      nan        <NA>               <NA>  \n",
       "125523                                      nan        <NA>               <NA>  \n",
       "125524                                      nan        <NA>               <NA>  \n",
       "125525                                      nan        <NA>               <NA>  \n",
       "125526                                      nan    $$ - $$$               <NA>  \n",
       "\n",
       "[125527 rows x 7 columns]"
      ]
     },
     "execution_count": 27,
     "metadata": {},
     "output_type": "execute_result"
    }
   ],
   "source": [
    "dfc = df.drop(columns = ['Unnamed: 0','URL_TA','ID_TA','Reviews']) \n",
    "# overview of newly processed dataframe\n",
    "dfc"
   ]
  },
  {
   "cell_type": "markdown",
   "metadata": {},
   "source": [
    "As you can see values above. There are more thatn 120,000 rows in this dataset."
   ]
  },
  {
   "cell_type": "markdown",
   "metadata": {},
   "source": [
    "## Data Types"
   ]
  },
  {
   "cell_type": "code",
   "execution_count": null,
   "metadata": {},
   "outputs": [],
   "source": [
    "display(dfc.dtypes)"
   ]
  },
  {
   "cell_type": "markdown",
   "metadata": {},
   "source": [
    "As the results presented above, we can see there are 3 Nominal and 3 Ratio data. But City, cuisine style, and Price Range here are category variables.\n",
    "In the next section, we are willing to convert data into category or list."
   ]
  },
  {
   "cell_type": "code",
   "execution_count": 28,
   "metadata": {},
   "outputs": [
    {
     "data": {
      "text/plain": [
       "Name                   string\n",
       "City                 category\n",
       "Cuisine Style        category\n",
       "Ranking                 Int64\n",
       "Rating                float64\n",
       "Price Range          category\n",
       "Number of Reviews       Int64\n",
       "dtype: object"
      ]
     },
     "metadata": {},
     "output_type": "display_data"
    }
   ],
   "source": [
    "categoryVariableList = [\"City\",\"Cuisine Style\",\"Price Range\"]\n",
    "for var in categoryVariableList:\n",
    "    dfc[var] = dfc[var].astype(\"category\")\n",
    "display(dfc.dtypes)"
   ]
  },
  {
   "cell_type": "code",
   "execution_count": 51,
   "metadata": {},
   "outputs": [
    {
     "data": {
      "image/png": "[encoded data removed]",
      "text/plain": [
       "<Figure size 360x288 with 1 Axes>"
      ]
     },
     "metadata": {},
     "output_type": "display_data"
    }
   ],
   "source": [
    "## statistics of present data\n",
    "dataTypeDf = pd.DataFrame(dfc.dtypes.astype(str).value_counts()).reset_index().rename(columns={\"index\":\"variableType\",0:\"count\"})\n",
    "fig,ax = plt.subplots()\n",
    "fig.set_size_inches(5,4)\n",
    "sns.barplot(x=dataTypeDf.variableType.values,\n",
    "           y=dataTypeDf[\"count\"].values,ax=ax,palette=plt1)\n",
    "ax.set(xlabel='Variables Type', ylabel='Count',title=\"Data Type Distribution\")\n",
    "fig.savefig(\"DataTypeDistribution.png\",dpi = 300,bbox_inches='tight')"
   ]
  },
  {
   "cell_type": "code",
   "execution_count": 31,
   "metadata": {},
   "outputs": [
    {
     "name": "stdout",
     "output_type": "stream",
     "text": [
      "<class 'pandas.core.frame.DataFrame'>\n",
      "RangeIndex: 125527 entries, 0 to 125526\n",
      "Data columns (total 6 columns):\n",
      " #   Column             Non-Null Count   Dtype   \n",
      "---  ------             --------------   -----   \n",
      " 0   City               125527 non-null  category\n",
      " 1   Cuisine Style      94176 non-null   category\n",
      " 2   Ranking            115876 non-null  Int64   \n",
      " 3   Rating             115897 non-null  float64 \n",
      " 4   Price Range        77672 non-null   category\n",
      " 5   Number of Reviews  108183 non-null  Int64   \n",
      "dtypes: Int64(2), category(3), float64(1)\n",
      "memory usage: 4.4 MB\n"
     ]
    }
   ],
   "source": [
    "dfx = dfc[[\"City\",\"Cuisine Style\",\"Ranking\",\"Rating\",\"Price Range\",\"Number of Reviews\"]]\n",
    "dfx.info()"
   ]
  },
  {
   "cell_type": "markdown",
   "metadata": {},
   "source": [
    "## Missing Data Statistics"
   ]
  },
  {
   "cell_type": "code",
   "execution_count": null,
   "metadata": {},
   "outputs": [],
   "source": [
    "num = dfc.isna().sum()"
   ]
  },
  {
   "cell_type": "code",
   "execution_count": 32,
   "metadata": {},
   "outputs": [
    {
     "name": "stdout",
     "output_type": "stream",
     "text": [
      "{'Name': 0, 'City': 0, 'Cuisine Style': 31351, 'Ranking': 9651, 'Rating': 9630, 'Price Range': 47855, 'Number of Reviews': 17344}\n"
     ]
    }
   ],
   "source": [
    "dic_missing = {}\n",
    "num = dfc.isna().sum()\n",
    "i = 0\n",
    "for var in dfc:\n",
    "    temp = str(var)\n",
    "    dic_missing[temp] = num[i]\n",
    "    i += 1\n",
    "print(dic_missing)"
   ]
  },
  {
   "cell_type": "code",
   "execution_count": 33,
   "metadata": {},
   "outputs": [],
   "source": [
    "dic_mp = {} # dictionary of missing proportion\n",
    "num = dfc.isna().sum()\n",
    "i = 0\n",
    "for var in dfc:\n",
    "    temp = str(var)\n",
    "    dic_mp[temp] = num[i]/len(dfc)\n",
    "    i += 1\n",
    "df_mp = pd.DataFrame.from_dict(dic_mp, orient='index')\n",
    "\n",
    "# for cols to apply function, I ref to data[u'线损率'] = data[u'线损率'].apply(lambda x: format(x, '.2%'))\n",
    "df_mp = df_mp[0].apply(lambda x: format(x,'.2%'))"
   ]
  },
  {
   "cell_type": "code",
   "execution_count": null,
   "metadata": {},
   "outputs": [],
   "source": [
    "df_mp"
   ]
  },
  {
   "cell_type": "code",
   "execution_count": 34,
   "metadata": {},
   "outputs": [
    {
     "name": "stdout",
     "output_type": "stream",
     "text": [
      "Collecting missingno\n",
      "  Downloading missingno-0.4.2-py3-none-any.whl (9.7 kB)\n",
      "Requirement already satisfied: scipy in /opt/conda/envs/sds2020/lib/python3.7/site-packages (from missingno) (1.5.2)\n",
      "Requirement already satisfied: matplotlib in /opt/conda/envs/sds2020/lib/python3.7/site-packages (from missingno) (3.3.1)\n",
      "Requirement already satisfied: numpy in /opt/conda/envs/sds2020/lib/python3.7/site-packages (from missingno) (1.19.1)\n",
      "Requirement already satisfied: seaborn in /opt/conda/envs/sds2020/lib/python3.7/site-packages (from missingno) (0.11.0)\n",
      "Requirement already satisfied: python-dateutil>=2.1 in /opt/conda/envs/sds2020/lib/python3.7/site-packages (from matplotlib->missingno) (2.8.0)\n",
      "Requirement already satisfied: kiwisolver>=1.0.1 in /opt/conda/envs/sds2020/lib/python3.7/site-packages (from matplotlib->missingno) (1.2.0)\n",
      "Requirement already satisfied: pyparsing!=2.0.4,!=2.1.2,!=2.1.6,>=2.0.3 in /opt/conda/envs/sds2020/lib/python3.7/site-packages (from matplotlib->missingno) (2.4.7)\n",
      "Requirement already satisfied: pillow>=6.2.0 in /opt/conda/envs/sds2020/lib/python3.7/site-packages (from matplotlib->missingno) (7.2.0)\n",
      "Requirement already satisfied: cycler>=0.10 in /opt/conda/envs/sds2020/lib/python3.7/site-packages (from matplotlib->missingno) (0.10.0)\n",
      "Requirement already satisfied: certifi>=2020.06.20 in /opt/conda/envs/sds2020/lib/python3.7/site-packages (from matplotlib->missingno) (2020.6.20)\n",
      "Requirement already satisfied: pandas>=0.23 in /opt/conda/envs/sds2020/lib/python3.7/site-packages (from seaborn->missingno) (1.1.2)\n",
      "Requirement already satisfied: six>=1.5 in /opt/conda/envs/sds2020/lib/python3.7/site-packages (from python-dateutil>=2.1->matplotlib->missingno) (1.15.0)\n",
      "Requirement already satisfied: pytz>=2017.2 in /opt/conda/envs/sds2020/lib/python3.7/site-packages (from pandas>=0.23->seaborn->missingno) (2020.1)\n",
      "Installing collected packages: missingno\n",
      "Successfully installed missingno-0.4.2\n"
     ]
    }
   ],
   "source": [
    "# install the missingno package\n",
    "! pip3 install missingno"
   ]
  },
  {
   "cell_type": "code",
   "execution_count": 35,
   "metadata": {},
   "outputs": [
    {
     "data": {
      "text/plain": [
       "<AxesSubplot:>"
      ]
     },
     "execution_count": 35,
     "metadata": {},
     "output_type": "execute_result"
    },
    {
     "data": {
      "image/png": "[encoded data removed]",
      "text/plain": [
       "<Figure size 360x288 with 2 Axes>"
      ]
     },
     "metadata": {
      "needs_background": "light"
     },
     "output_type": "display_data"
    }
   ],
   "source": [
    "# see the missing value proportion visulisation\n",
    "import missingno as msno\n",
    "msno.matrix(dfc,figsize=(5,4))\n",
    "# this one can be writen in our limitation section"
   ]
  },
  {
   "cell_type": "code",
   "execution_count": null,
   "metadata": {},
   "outputs": [],
   "source": [
    "display(df_mp)"
   ]
  },
  {
   "cell_type": "markdown",
   "metadata": {},
   "source": [
    "This means we need to drop at least 38% rows in our data, Let's contiune cleaning our data for better analysis!\n",
    "\n",
    "Finally, you can mention this point in the limitation section."
   ]
  },
  {
   "cell_type": "markdown",
   "metadata": {},
   "source": [
    "## No.1 Method is to ignore Cuisine Study & Drop N/A Value "
   ]
  },
  {
   "cell_type": "code",
   "execution_count": 36,
   "metadata": {},
   "outputs": [
    {
     "name": "stdout",
     "output_type": "stream",
     "text": [
      "(125527, 7)\n",
      "(74225, 7)\n"
     ]
    }
   ],
   "source": [
    "# mydf.dropna(subset=['列名'],inplace=True)\n",
    "# mydf=mydf.dropna(subset=['列名'])\n",
    "\n",
    "print(dfc.shape)\n",
    "# It is fine if there are null values in Cuisine Style.\n",
    "dfx = dfc.dropna(subset = ['Ranking','Rating','Price Range','Number of Reviews'])\n",
    "print(dfx.shape)"
   ]
  },
  {
   "cell_type": "code",
   "execution_count": null,
   "metadata": {},
   "outputs": [],
   "source": [
    "dfc"
   ]
  },
  {
   "cell_type": "markdown",
   "metadata": {},
   "source": [
    "# Processed Data Summary"
   ]
  },
  {
   "cell_type": "code",
   "execution_count": null,
   "metadata": {},
   "outputs": [],
   "source": [
    "dfx.shape"
   ]
  },
  {
   "cell_type": "code",
   "execution_count": null,
   "metadata": {},
   "outputs": [],
   "source": [
    "dfx.describe().to_csv('dfc_statistics.csv')"
   ]
  },
  {
   "cell_type": "code",
   "execution_count": null,
   "metadata": {},
   "outputs": [],
   "source": [
    "dfx.describe()"
   ]
  },
  {
   "cell_type": "code",
   "execution_count": null,
   "metadata": {},
   "outputs": [],
   "source": [
    "dfx"
   ]
  },
  {
   "cell_type": "markdown",
   "metadata": {},
   "source": [
    "## Descriptive Statistics (Distribution)"
   ]
  },
  {
   "cell_type": "markdown",
   "metadata": {},
   "source": [
    "Ref: [How your TripAdvisor ranking is calculated](https://blog.guestrevu.com/two-steps-to-improve-your-tripadvisor-ranking/)\n",
    "\n",
    "- TripAdvisor Rating: This is the written review a guest will leave once they have stayed with you. Based on these reviews you will be given a rating, with 5 being the highest.\n",
    "\n",
    "- TripAdvisor Ranking: Much like Google, TripAdvisor uses algorithms to rank and score a property based on a few different points."
   ]
  },
  {
   "cell_type": "code",
   "execution_count": 45,
   "metadata": {},
   "outputs": [
    {
     "data": {
      "image/png": "[encoded data removed]",
      "text/plain": [
       "<Figure size 576x288 with 1 Axes>"
      ]
     },
     "metadata": {},
     "output_type": "display_data"
    }
   ],
   "source": [
    "fig,ax = plt.subplots(ncols=1,nrows=1,figsize=(8,4))\n",
    "\n",
    "hist, edges = np.histogram(dfx[\"Number of Reviews\"],bins=30)\n",
    "norm = plt.Normalize(edges.min(), edges.max()-3000)\n",
    "colors = plt.cm.coolwarm(norm(edges).astype(float))\n",
    "ax.bar(edges[:-1], hist,np.diff(edges), color=colors, ec=\"k\", align=\"edge\")\n",
    "ax.set(xlabel=\"Number of Reviews\",ylabel=\"Frequency\",title=\"The Distribution of Number of Reviews\",xlim=[0,16478])\n",
    "\n",
    "ax1x = ax.inset_axes([0.45, 0.45, 0.5, 0.5]) #新建一个插画画布\n",
    "#ax1x.set_ylabel(\"count\",size=9)\n",
    "ax1x.hist(dfx[dfx[\"Number of Reviews\"]>5000][\"Number of Reviews\"],bins=30,ec=\"k\")\n",
    "ax1x.tick_params(axis=u'both',which=u'both',labelright=0,labelleft =1,labelbottom=1,bottom=1,top=0,right=0,labelsize=8)\n",
    "\n",
    "fig.savefig(\"reviewsCnt.png\",dpi = 300,bbox_inches='tight')"
   ]
  },
  {
   "cell_type": "code",
   "execution_count": null,
   "metadata": {},
   "outputs": [],
   "source": [
    "import seaborn as sns\n",
    "sns.pairplot(dfx)"
   ]
  },
  {
   "cell_type": "markdown",
   "metadata": {},
   "source": [
    "### Number of Reviews Distribution"
   ]
  },
  {
   "cell_type": "markdown",
   "metadata": {},
   "source": [
    "But you can see there are many values (bigger than 1250) cannot be seen clearly in this picture. We can plot a pair figure to see the outlier distribution.\n",
    "\n",
    "Outliers can be a excellent restaurant.\n",
    "\n",
    "By the way, the log distribution can be found in the following picture."
   ]
  },
  {
   "cell_type": "code",
   "execution_count": 40,
   "metadata": {},
   "outputs": [
    {
     "data": {
      "image/png": "[encoded data removed]",
      "text/plain": [
       "<Figure size 360x288 with 1 Axes>"
      ]
     },
     "metadata": {
      "needs_background": "light"
     },
     "output_type": "display_data"
    }
   ],
   "source": [
    "fig1,ax1 = plt.subplots(ncols=1,nrows=1,figsize=(5,4))\n",
    "# ax1.axline(x=dfx['Number of Reviews'].mean())\n",
    "sns.histplot(dfx, x=\"Number of Reviews\",bins = 20, ax = ax1)\n",
    "fig1.savefig(\"ReviewsDis.png\",dpi=300,bbox_inches='tight')"
   ]
  },
  {
   "cell_type": "code",
   "execution_count": 39,
   "metadata": {},
   "outputs": [
    {
     "data": {
      "image/png": "[encoded data removed]",
      "text/plain": [
       "<Figure size 360x288 with 1 Axes>"
      ]
     },
     "metadata": {
      "needs_background": "light"
     },
     "output_type": "display_data"
    }
   ],
   "source": [
    "fig2,ax2 = plt.subplots(ncols=1,nrows=1,figsize=(5,4))\n",
    "sns.histplot(dfx[dfx[\"Number of Reviews\"]>5000][\"Number of Reviews\"],bins= 30, ax=ax2)\n",
    "fig2.savefig(\"ReviewsOutliers.png\",dpi=300,bbox_inches='tight')"
   ]
  },
  {
   "cell_type": "markdown",
   "metadata": {},
   "source": [
    "Let's see what is in this outliers, using the below code"
   ]
  },
  {
   "cell_type": "code",
   "execution_count": null,
   "metadata": {},
   "outputs": [],
   "source": [
    "dfx[dfx[\"Number of Reviews\"]> 10000].to_csv(\"dfx_reviewsoutliers.csv\")\n",
    "dfx[dfx[\"Number of Reviews\"]> 10000]"
   ]
  },
  {
   "cell_type": "code",
   "execution_count": null,
   "metadata": {},
   "outputs": [],
   "source": [
    "dfx_temp = dfx[dfx[\"Number of Reviews\"]>10000]\n",
    "dfx_temp.iloc[-2] "
   ]
  },
  {
   "cell_type": "markdown",
   "metadata": {},
   "source": [
    "You can see this store have high number of review but low rating, interesting. You can see its Cuisine Style is few （['French', 'European]). In contrast, you can see Vegetarian Friendly can be a important element to receive great amount of review and nice rating in different European cities OR London."
   ]
  },
  {
   "cell_type": "markdown",
   "metadata": {},
   "source": [
    "Let's analysis the Ranking, Rating, Price Range distribution"
   ]
  },
  {
   "cell_type": "markdown",
   "metadata": {},
   "source": [
    "### Ranking Distribution\n",
    "\n",
    "What is your ranking dependen on\n",
    "ref: https://www.tripadvisor.com/TripAdvisorInsights/w765"
   ]
  },
  {
   "cell_type": "code",
   "execution_count": 46,
   "metadata": {},
   "outputs": [
    {
     "name": "stdout",
     "output_type": "stream",
     "text": [
      "2980.305894240485\n"
     ]
    },
    {
     "data": {
      "image/png": "[encoded data removed]",
      "text/plain": [
       "<Figure size 720x432 with 1 Axes>"
      ]
     },
     "metadata": {},
     "output_type": "display_data"
    }
   ],
   "source": [
    "fig3,ax3 = plt.subplots(ncols=1,nrows=1,figsize=(10,6))\n",
    "\n",
    "mean=dfx['Ranking'].mean()\n",
    "median=dfx['Ranking'].median()\n",
    "print(mean)\n",
    "mode=dfx['Ranking'].mode()[0]\n",
    "\n",
    "#ax3.axvline(mean, color='r', linestyle='--')\n",
    "#ax3.axvline(median, color='g', linestyle='-')\n",
    "#ax3.axvline(mode, color='b', linestyle='-')\n",
    "\n",
    "ax3.axvline(mean, color='r', linestyle = '-')\n",
    "sns.histplot(dfx, x=\"Ranking\",binwidth = 1000, ax = ax3)\n",
    "ax3.set(xlabel=\"Ranking\",ylabel=\"Frequency\",title=\"The Distribution of Restaurants Ranking (a)\")\n",
    "\n",
    "\n",
    "fig3.savefig(\"RankingDis.png\",dpi=300,bbox_inches='tight')"
   ]
  },
  {
   "cell_type": "code",
   "execution_count": 49,
   "metadata": {},
   "outputs": [
    {
     "data": {
      "image/png": "[encoded data removed]",
      "text/plain": [
       "<Figure size 720x432 with 1 Axes>"
      ]
     },
     "metadata": {},
     "output_type": "display_data"
    }
   ],
   "source": [
    "fig4,ax4 = plt.subplots(ncols=1,nrows=1,figsize=(10,6))\n",
    "\n",
    "mean=dfx['Rating'].mean()\n",
    "median=dfx['Rating'].median()\n",
    "mode=dfx['Rating'].mode()[0]\n",
    "\n",
    "'''\n",
    "ax4.axvline(mean, color='r', linestyle='--')\n",
    "ax4.axvline(median, color='g', linestyle='-')\n",
    "ax4.axvline(mode, color='b', linestyle='-')\n",
    "'''\n",
    "ax4.axvline(mean, color='r', linestyle='-')\n",
    "\n",
    "sns.histplot(dfx, x=\"Rating\",binwidth = 0.5, ax = ax4)\n",
    "ax4.set(xlabel = \"Rating\",ylabel = \"Frequency\", title = \"The Distribution of Restaurants Rating (b)\")\n",
    "\n",
    "fig4.savefig(\"RatingDis.png\",dpi=300,bbox_inches='tight')"
   ]
  },
  {
   "cell_type": "code",
   "execution_count": null,
   "metadata": {},
   "outputs": [],
   "source": [
    "# fig5,ax5 = plt.subplots(ncols=1,nrows=1,figsize=(5,4))\n",
    "sns.jointplot(x=\"Ranking\", y=\"Number of Reviews\", data=dfx, height=7)"
   ]
  },
  {
   "cell_type": "markdown",
   "metadata": {},
   "source": [
    "# Correlation Analysis"
   ]
  },
  {
   "cell_type": "code",
   "execution_count": null,
   "metadata": {},
   "outputs": [],
   "source": [
    "corrMatt = dfx[[\"Rating\",\"Number of Reviews\",\"Price Range\",\"Ranking\"]].corr() # 计算相关系数\n",
    "mask = np.array(corrMatt)\n",
    "mask[np.tril_indices_from(mask)] = False\n",
    "fig,ax= plt.subplots()\n",
    "fig.set_size_inches(7,6)\n",
    "sns.heatmap(corrMatt, mask=mask,vmax=.5, vmin=-.5,square=True,annot=True)\n",
    "ax.tick_params(axis=u'both',which=u'both',labelright=0,labelleft =1,labelbottom=1,top=0,right=0,left=0,bottom=0,labelsize=10)\n",
    "fig.savefig(\"corr.png\",dpi=300)"
   ]
  },
  {
   "cell_type": "code",
   "execution_count": null,
   "metadata": {},
   "outputs": [],
   "source": [
    "# Compute the correlation matrix\n",
    "corr = dfx.corr()\n",
    "\n",
    "# Generate a mask for the upper triangle\n",
    "mask = np.triu(np.ones_like(corr, dtype=bool))\n",
    "\n",
    "# Set up the matplotlib figure\n",
    "f, ax = plt.subplots(figsize=(11, 9))\n",
    "\n",
    "# Generate a custom diverging colormap\n",
    "cmap = sns.diverging_palette(230, 20, as_cmap=True)\n",
    "\n",
    "# Draw the heatmap with the mask and correct aspect ratio\n",
    "sns.heatmap(corr, mask=mask, cmap=cmap, vmax=.5, vmin=-.5,center=0,annot=True,\n",
    "            square=True, linewidths=.5, cbar_kws={\"shrink\": .5})"
   ]
  },
  {
   "cell_type": "markdown",
   "metadata": {},
   "source": [
    "In this correlation matrix:\n",
    "\n",
    "- Rating is related to Ranking\n",
    "- Ranking is related to Number of Reviews\n",
    "- Rating !~ Number of Reviews\n",
    "    \n",
    "Rating, Number of Reviews can be two independences.\n",
    "Ranking now become the dependence."
   ]
  },
  {
   "cell_type": "code",
   "execution_count": null,
   "metadata": {},
   "outputs": [],
   "source": [
    "dfx.info()"
   ]
  },
  {
   "cell_type": "code",
   "execution_count": null,
   "metadata": {},
   "outputs": [],
   "source": [
    "# plot the regression overview stuff\n",
    "\n",
    "fig,(ax1,ax2) = plt.subplots(ncols=2)\n",
    "fig.set_size_inches(20, 12)\n",
    "ax1.set(ylim=(0, 30000))\n",
    "\n",
    "sns.regplot(x=dfx[\"Rating\"].astype(float), y=dfx[\"Ranking\"].astype(int),ax=ax1,x_jitter=.05)\n",
    "sns.regplot(x=dfx[\"Number of Reviews\"].astype(int), y=dfx[\"Ranking\"].astype(int),logx = 1, ax = ax2)"
   ]
  },
  {
   "cell_type": "code",
   "execution_count": null,
   "metadata": {},
   "outputs": [],
   "source": [
    "# sns.lmgplot(x=\"Number of Reviews\", y=\"Ranking\", hue=\"Price Range\", data=dfx);"
   ]
  },
  {
   "cell_type": "markdown",
   "metadata": {},
   "source": [
    "# Hypothesis\n",
    "\n",
    "Are well ranked restaurants reviewed a lot or not ? (viz rank/number of reviews with lineplot)\n",
    "Is there a correlation between rank/number of reviews ? Rate/Number of reviews ?"
   ]
  },
  {
   "cell_type": "markdown",
   "metadata": {},
   "source": [
    "$\\log Ranking = \\beta_0 +  \\beta_1 \\times Rating + \\beta_2 \\times Reviews + \\beta_3 \\times Price  $ "
   ]
  },
  {
   "cell_type": "code",
   "execution_count": null,
   "metadata": {},
   "outputs": [],
   "source": [
    "dfx.columns"
   ]
  },
  {
   "cell_type": "markdown",
   "metadata": {},
   "source": [
    "### Multiple Regression"
   ]
  },
  {
   "cell_type": "markdown",
   "metadata": {},
   "source": [
    "Using the code from week 4"
   ]
  },
  {
   "cell_type": "code",
   "execution_count": 1,
   "metadata": {},
   "outputs": [],
   "source": [
    "# import environment\n",
    "import pandas as pd\n",
    "from sklearn.linear_model import LinearRegression\n",
    "import statsmodels.api as sm\n",
    "\n",
    "import numpy as np\n",
    "\n",
    "import sklearn\n",
    "from sklearn.linear_model import LogisticRegression\n",
    "from sklearn.metrics import confusion_matrix\n",
    "\n",
    "import matplotlib.pyplot as plt\n",
    "import seaborn as sns\n",
    "\n",
    "pd.set_option('display.max_rows', 300) # specifies number of rows to show\n",
    "pd.options.display.float_format = '{:40,.4f}'.format # specifies default number format to 4 decimal places\n",
    "plt.style.use('ggplot') # specifies that graphs should use ggplot styling\n",
    "%matplotlib inline"
   ]
  },
  {
   "cell_type": "code",
   "execution_count": 2,
   "metadata": {},
   "outputs": [
    {
     "data": {
      "text/html": [
       "<div>\n",
       "<style scoped>\n",
       "    .dataframe tbody tr th:only-of-type {\n",
       "        vertical-align: middle;\n",
       "    }\n",
       "\n",
       "    .dataframe tbody tr th {\n",
       "        vertical-align: top;\n",
       "    }\n",
       "\n",
       "    .dataframe thead th {\n",
       "        text-align: right;\n",
       "    }\n",
       "</style>\n",
       "<table border=\"1\" class=\"dataframe\">\n",
       "  <thead>\n",
       "    <tr style=\"text-align: right;\">\n",
       "      <th></th>\n",
       "      <th>Name</th>\n",
       "      <th>City</th>\n",
       "      <th>Cuisine_Style</th>\n",
       "      <th>Ranking</th>\n",
       "      <th>Rating</th>\n",
       "      <th>Price_Range</th>\n",
       "      <th>reviewsCnt</th>\n",
       "    </tr>\n",
       "  </thead>\n",
       "  <tbody>\n",
       "  </tbody>\n",
       "</table>\n",
       "</div>"
      ],
      "text/plain": [
       "Empty DataFrame\n",
       "Columns: [Name, City, Cuisine_Style, Ranking, Rating, Price_Range, reviewsCnt]\n",
       "Index: []"
      ]
     },
     "execution_count": 2,
     "metadata": {},
     "output_type": "execute_result"
    }
   ],
   "source": [
    "df_reg = pd.read_csv(\"TA_restaurants_curated.csv\")\n",
    "\n",
    "df_reg = df_reg.drop(columns = ['Unnamed: 0','URL_TA','ID_TA','Reviews']) \n",
    "# overview of newly processed dataframe\n",
    "\n",
    "df_reg.columns = ['Name','City','Cuisine_Style','Ranking','Rating','Price_Range','reviewsCnt']\n",
    "df_reg.head(0)"
   ]
  },
  {
   "cell_type": "code",
   "execution_count": 3,
   "metadata": {},
   "outputs": [
    {
     "name": "stdout",
     "output_type": "stream",
     "text": [
      "(125527, 5)\n",
      "(74225, 5)\n"
     ]
    }
   ],
   "source": [
    "categoryVariableList = [\"City\",\"Cuisine_Style\",\"Price_Range\"]\n",
    "for var in categoryVariableList:\n",
    "    df_reg[var] = df_reg[var].astype(\"object\")\n",
    "# display(df_reg.dtypes)\n",
    "\n",
    "# Select cols\n",
    "df_reg = df_reg[[\"City\",\"Ranking\",\"Rating\",\"Price_Range\",\"reviewsCnt\"]]\n",
    "\n",
    "# drop missing data\n",
    "print(df_reg.shape)\n",
    "# It is fine if there are null values in Cuisine Style.\n",
    "df_reg = df_reg.dropna(subset = ['Ranking','Rating','Price_Range','reviewsCnt'])\n",
    "print(df_reg.shape)"
   ]
  },
  {
   "cell_type": "code",
   "execution_count": 4,
   "metadata": {},
   "outputs": [],
   "source": [
    "# we need convert $ to low; $$-$$$ to medium; $$$$ to high\n",
    "dic_price = {\"$\":\"low\",\"$$ - $$$\":\"medium\",\"$$$$\":\"high\"}\n",
    "df_reg['Price']=df_reg['Price_Range'].apply(lambda x : dic_price[x])\n",
    "df_reg = df_reg[[\"Ranking\",\"Rating\",\"Price\",\"reviewsCnt\"]]"
   ]
  },
  {
   "cell_type": "code",
   "execution_count": 5,
   "metadata": {},
   "outputs": [
    {
     "name": "stdout",
     "output_type": "stream",
     "text": [
      "<class 'pandas.core.frame.DataFrame'>\n",
      "Int64Index: 74225 entries, 0 to 125445\n",
      "Data columns (total 4 columns):\n",
      " #   Column      Non-Null Count  Dtype  \n",
      "---  ------      --------------  -----  \n",
      " 0   Ranking     74225 non-null  float64\n",
      " 1   Rating      74225 non-null  float64\n",
      " 2   Price       74225 non-null  object \n",
      " 3   reviewsCnt  74225 non-null  float64\n",
      "dtypes: float64(3), object(1)\n",
      "memory usage: 2.8+ MB\n"
     ]
    }
   ],
   "source": [
    "df_reg.info()"
   ]
  },
  {
   "cell_type": "markdown",
   "metadata": {},
   "source": [
    "There are 2 data types category (object) & numerical (int64, float64)\n",
    "\n",
    "Before undertaking regression, several steps should be done, which include:\n",
    "\n",
    "- Converting categorical variables into dummy variables\n",
    "- Dealing with multicollinearity (and removing some variables if necessary)"
   ]
  },
  {
   "cell_type": "markdown",
   "metadata": {},
   "source": [
    "### Encoding of categorical variables\n",
    "First, we need to convert categorical variables into dummy variables (or indicator variable), using `One-Hot Encoding`."
   ]
  },
  {
   "cell_type": "code",
   "execution_count": 9,
   "metadata": {},
   "outputs": [],
   "source": [
    "df_numeric = pd.get_dummies(df_reg)"
   ]
  },
  {
   "cell_type": "code",
   "execution_count": 10,
   "metadata": {},
   "outputs": [
    {
     "name": "stdout",
     "output_type": "stream",
     "text": [
      "<class 'pandas.core.frame.DataFrame'>\n",
      "Int64Index: 74225 entries, 0 to 125445\n",
      "Data columns (total 6 columns):\n",
      " #   Column        Non-Null Count  Dtype  \n",
      "---  ------        --------------  -----  \n",
      " 0   Ranking       74225 non-null  float64\n",
      " 1   Rating        74225 non-null  float64\n",
      " 2   reviewsCnt    74225 non-null  float64\n",
      " 3   Price_high    74225 non-null  uint8  \n",
      " 4   Price_low     74225 non-null  uint8  \n",
      " 5   Price_medium  74225 non-null  uint8  \n",
      "dtypes: float64(3), uint8(3)\n",
      "memory usage: 2.5 MB\n"
     ]
    }
   ],
   "source": [
    "df_numeric.info()"
   ]
  },
  {
   "cell_type": "markdown",
   "metadata": {},
   "source": [
    "Remember that, a cateogircal variable of K categories or levels, usually enters a regression as a sequence of K-1 dummy variables. The level that is left out becomes the **reference level**, and this is important for interpreting the regression model.\n",
    "\n",
    "Here we manually choose the reference level for each categorical variable and exclude them from the DataFrame. You can change the reference levels if you want."
   ]
  },
  {
   "cell_type": "code",
   "execution_count": 11,
   "metadata": {},
   "outputs": [
    {
     "name": "stdout",
     "output_type": "stream",
     "text": [
      "<class 'pandas.core.frame.DataFrame'>\n",
      "Int64Index: 74225 entries, 0 to 125445\n",
      "Data columns (total 6 columns):\n",
      " #   Column        Non-Null Count  Dtype  \n",
      "---  ------        --------------  -----  \n",
      " 0   Ranking       74225 non-null  float64\n",
      " 1   Rating        74225 non-null  float64\n",
      " 2   reviewsCnt    74225 non-null  float64\n",
      " 3   Price_high    74225 non-null  uint8  \n",
      " 4   Price_low     74225 non-null  uint8  \n",
      " 5   Price_medium  74225 non-null  uint8  \n",
      "dtypes: float64(3), uint8(3)\n",
      "memory usage: 2.5 MB\n"
     ]
    }
   ],
   "source": [
    "# df_final = df_numeric.drop(['Price_low'], axis = 1)\n",
    "df_final = df_numeric\n",
    "df_final.info()"
   ]
  },
  {
   "cell_type": "code",
   "execution_count": 18,
   "metadata": {},
   "outputs": [
    {
     "data": {
      "image/png": "[encoded data removed]",
      "text/plain": [
       "<Figure size 1368x1080 with 2 Axes>"
      ]
     },
     "metadata": {
      "needs_background": "light"
     },
     "output_type": "display_data"
    }
   ],
   "source": [
    "# method 1\n",
    "df = df_final\n",
    "plt.rcParams[\"axes.grid\"] = False\n",
    "f = plt.figure(figsize=(19, 15))\n",
    "plt.matshow(df.corr(), fignum=f.number)\n",
    "plt.xticks(range(df.shape[1]), df.columns, fontsize=14, rotation=45)\n",
    "plt.yticks(range(df.shape[1]), df.columns, fontsize=14)\n",
    "cb = plt.colorbar()\n",
    "cb.ax.tick_params(labelsize=14)\n",
    "plt.title('Correlation Matrix', fontsize=16)\n",
    "f.savefig(\"corr_reg1.png\",dpi = 300,bbox_inches='tight')"
   ]
  },
  {
   "cell_type": "code",
   "execution_count": 52,
   "metadata": {},
   "outputs": [
    {
     "data": {
      "image/png": "[encoded data removed]",
      "text/plain": [
       "<Figure size 504x432 with 2 Axes>"
      ]
     },
     "metadata": {},
     "output_type": "display_data"
    }
   ],
   "source": [
    "# method 2 \n",
    "df = df_final\n",
    "corrMatt = df_final.corr() # 计算相关系数\n",
    "mask = np.array(corrMatt)\n",
    "mask[np.tril_indices_from(mask)] = False\n",
    "fig,ax= plt.subplots()\n",
    "fig.set_size_inches(7,6)\n",
    "ax.set(title = \"Correlation Matrix of All Variables\")\n",
    "sns.heatmap(corrMatt, mask=mask,vmax=.5, vmin=-.5,square=True,annot=True)\n",
    "ax.tick_params(axis=u'both',which=u'both',labelright=0,labelleft =1,labelbottom=1,top=0,right=0,left=0,bottom=0,labelsize=10)\n",
    "fig.savefig(\"corr_reg2.png\",dpi=300,bbox_inches='tight')"
   ]
  },
  {
   "cell_type": "markdown",
   "metadata": {},
   "source": [
    "共线性： price_low & price_medium相关性太高！可能存在共线性，故去掉price_low"
   ]
  },
  {
   "cell_type": "markdown",
   "metadata": {},
   "source": [
    "### Price Range"
   ]
  },
  {
   "cell_type": "code",
   "execution_count": null,
   "metadata": {},
   "outputs": [],
   "source": [
    "df_numeric.head(0)"
   ]
  },
  {
   "cell_type": "code",
   "execution_count": 203,
   "metadata": {},
   "outputs": [],
   "source": [
    "Price_Range = df_numeric.loc[:,['Ranking','Rating','reviewsCnt','Price_high', 'Price_medium', 'Price_low']]"
   ]
  },
  {
   "cell_type": "code",
   "execution_count": 212,
   "metadata": {},
   "outputs": [
    {
     "data": {
      "text/html": [
       "<table class=\"simpletable\">\n",
       "<caption>OLS Regression Results</caption>\n",
       "<tr>\n",
       "  <th>Dep. Variable:</th>         <td>Ranking</td>     <th>  R-squared:         </th>  <td>   0.214</td>  \n",
       "</tr>\n",
       "<tr>\n",
       "  <th>Model:</th>                   <td>OLS</td>       <th>  Adj. R-squared:    </th>  <td>   0.214</td>  \n",
       "</tr>\n",
       "<tr>\n",
       "  <th>Method:</th>             <td>Least Squares</td>  <th>  F-statistic:       </th>  <td>1.010e+04</td> \n",
       "</tr>\n",
       "<tr>\n",
       "  <th>Date:</th>             <td>Mon, 18 Jan 2021</td> <th>  Prob (F-statistic):</th>   <td>  0.00</td>   \n",
       "</tr>\n",
       "<tr>\n",
       "  <th>Time:</th>                 <td>16:05:49</td>     <th>  Log-Likelihood:    </th> <td>-6.9934e+05</td>\n",
       "</tr>\n",
       "<tr>\n",
       "  <th>No. Observations:</th>      <td> 74225</td>      <th>  AIC:               </th>  <td>1.399e+06</td> \n",
       "</tr>\n",
       "<tr>\n",
       "  <th>Df Residuals:</th>          <td> 74222</td>      <th>  BIC:               </th>  <td>1.399e+06</td> \n",
       "</tr>\n",
       "<tr>\n",
       "  <th>Df Model:</th>              <td>     2</td>      <th>                     </th>      <td> </td>     \n",
       "</tr>\n",
       "<tr>\n",
       "  <th>Covariance Type:</th>      <td>nonrobust</td>    <th>                     </th>      <td> </td>     \n",
       "</tr>\n",
       "</table>\n",
       "<table class=\"simpletable\">\n",
       "<tr>\n",
       "       <td></td>         <th>coef</th>     <th>std err</th>      <th>t</th>      <th>P>|t|</th>  <th>[0.025</th>    <th>0.975]</th>  \n",
       "</tr>\n",
       "<tr>\n",
       "  <th>Intercept</th>  <td> 1.348e+04</td> <td>   81.160</td> <td>  166.127</td> <td> 0.000</td> <td> 1.33e+04</td> <td> 1.36e+04</td>\n",
       "</tr>\n",
       "<tr>\n",
       "  <th>Rating</th>     <td>-2530.5975</td> <td>   19.989</td> <td> -126.597</td> <td> 0.000</td> <td>-2569.777</td> <td>-2491.418</td>\n",
       "</tr>\n",
       "<tr>\n",
       "  <th>reviewsCnt</th> <td>   -1.8658</td> <td>    0.030</td> <td>  -61.574</td> <td> 0.000</td> <td>   -1.925</td> <td>   -1.806</td>\n",
       "</tr>\n",
       "</table>\n",
       "<table class=\"simpletable\">\n",
       "<tr>\n",
       "  <th>Omnibus:</th>       <td>17926.988</td> <th>  Durbin-Watson:     </th> <td>   0.210</td> \n",
       "</tr>\n",
       "<tr>\n",
       "  <th>Prob(Omnibus):</th>  <td> 0.000</td>   <th>  Jarque-Bera (JB):  </th> <td>37938.948</td>\n",
       "</tr>\n",
       "<tr>\n",
       "  <th>Skew:</th>           <td> 1.422</td>   <th>  Prob(JB):          </th> <td>    0.00</td> \n",
       "</tr>\n",
       "<tr>\n",
       "  <th>Kurtosis:</th>       <td> 5.045</td>   <th>  Cond. No.          </th> <td>3.07e+03</td> \n",
       "</tr>\n",
       "</table><br/><br/>Notes:<br/>[1] Standard Errors assume that the covariance matrix of the errors is correctly specified.<br/>[2] The condition number is large, 3.07e+03. This might indicate that there are<br/>strong multicollinearity or other numerical problems."
      ],
      "text/plain": [
       "<class 'statsmodels.iolib.summary.Summary'>\n",
       "\"\"\"\n",
       "                            OLS Regression Results                            \n",
       "==============================================================================\n",
       "Dep. Variable:                Ranking   R-squared:                       0.214\n",
       "Model:                            OLS   Adj. R-squared:                  0.214\n",
       "Method:                 Least Squares   F-statistic:                 1.010e+04\n",
       "Date:                Mon, 18 Jan 2021   Prob (F-statistic):               0.00\n",
       "Time:                        16:05:49   Log-Likelihood:            -6.9934e+05\n",
       "No. Observations:               74225   AIC:                         1.399e+06\n",
       "Df Residuals:                   74222   BIC:                         1.399e+06\n",
       "Df Model:                           2                                         \n",
       "Covariance Type:            nonrobust                                         \n",
       "==============================================================================\n",
       "                 coef    std err          t      P>|t|      [0.025      0.975]\n",
       "------------------------------------------------------------------------------\n",
       "Intercept   1.348e+04     81.160    166.127      0.000    1.33e+04    1.36e+04\n",
       "Rating     -2530.5975     19.989   -126.597      0.000   -2569.777   -2491.418\n",
       "reviewsCnt    -1.8658      0.030    -61.574      0.000      -1.925      -1.806\n",
       "==============================================================================\n",
       "Omnibus:                    17926.988   Durbin-Watson:                   0.210\n",
       "Prob(Omnibus):                  0.000   Jarque-Bera (JB):            37938.948\n",
       "Skew:                           1.422   Prob(JB):                         0.00\n",
       "Kurtosis:                       5.045   Cond. No.                     3.07e+03\n",
       "==============================================================================\n",
       "\n",
       "Notes:\n",
       "[1] Standard Errors assume that the covariance matrix of the errors is correctly specified.\n",
       "[2] The condition number is large, 3.07e+03. This might indicate that there are\n",
       "strong multicollinearity or other numerical problems.\n",
       "\"\"\""
      ]
     },
     "execution_count": 212,
     "metadata": {},
     "output_type": "execute_result"
    }
   ],
   "source": [
    "model_all_Price = sm.formula.ols('Ranking ~ Rating + reviewsCnt + Price_high + Price_medium + Price_low', Price_Range).fit()\n",
    "model_all_Price.summary()"
   ]
  },
  {
   "cell_type": "markdown",
   "metadata": {},
   "source": [
    "### Using VIF to deal with multicollinearity"
   ]
  },
  {
   "cell_type": "code",
   "execution_count": null,
   "metadata": {},
   "outputs": [],
   "source": [
    "from statsmodels.stats.outliers_influence import variance_inflation_factor \n",
    "from statsmodels.tools.tools import add_constant\n",
    "\n",
    "def drop_column_using_vif(df, thresh=5):\n",
    "    '''\n",
    "    Calculates VIF each feature in a pandas dataframe, and repeatedly drop the columns with the highest VIF\n",
    "    A constant must be added to variance_inflation_factor or the results will be incorrect\n",
    "\n",
    "    :param df: the pandas dataframe containing only the predictor features, not the response variable\n",
    "    :param thresh: the max VIF value before the feature is removed from the dataframe\n",
    "    :return: dataframe with multicollinear features removed\n",
    "    '''\n",
    "    while True:\n",
    "        # adding a constatnt item to the data\n",
    "        df_with_const = add_constant(df)\n",
    "\n",
    "        vif_df = pd.Series([variance_inflation_factor(df_with_const.values, i) \n",
    "               for i in range(df_with_const.shape[1])], name= \"VIF\",\n",
    "              index=df_with_const.columns).to_frame()\n",
    "\n",
    "        # drop the const\n",
    "        vif_df = vif_df.drop('const')\n",
    "        \n",
    "        # if the largest VIF is above the thresh, remove a variable with the largest VIF\n",
    "        if vif_df.VIF.max() > thresh:\n",
    "            # If there are multiple variables with the maximum VIF, choose the first one\n",
    "            index_to_drop = vif_df.index[vif_df.VIF == vif_df.VIF.max()].tolist()[0]\n",
    "            print('Dropping: {}'.format(index_to_drop))\n",
    "            df = df.drop(columns = index_to_drop)\n",
    "        else:\n",
    "            # No VIF is above threshold. Exit the loop\n",
    "            break\n",
    "\n",
    "    return df"
   ]
  },
  {
   "cell_type": "code",
   "execution_count": null,
   "metadata": {},
   "outputs": [],
   "source": [
    "df_new = drop_column_using_vif(df_numeric.drop('Ranking',axis = 1))"
   ]
  },
  {
   "cell_type": "code",
   "execution_count": 79,
   "metadata": {},
   "outputs": [
    {
     "ename": "NameError",
     "evalue": "name 'df_new' is not defined",
     "output_type": "error",
     "traceback": [
      "\u001b[0;31m---------------------------------------------------------------------------\u001b[0m",
      "\u001b[0;31mNameError\u001b[0m                                 Traceback (most recent call last)",
      "\u001b[0;32m<ipython-input-79-c5addfb5f514>\u001b[0m in \u001b[0;36m<module>\u001b[0;34m\u001b[0m\n\u001b[0;32m----> 1\u001b[0;31m \u001b[0mdf_new\u001b[0m\u001b[0;34m.\u001b[0m\u001b[0minfo\u001b[0m\u001b[0;34m(\u001b[0m\u001b[0;34m)\u001b[0m\u001b[0;34m\u001b[0m\u001b[0;34m\u001b[0m\u001b[0m\n\u001b[0m",
      "\u001b[0;31mNameError\u001b[0m: name 'df_new' is not defined"
     ]
    }
   ],
   "source": [
    "df_new.info()"
   ]
  },
  {
   "cell_type": "markdown",
   "metadata": {},
   "source": [
    " we can see only Price_high is dropped"
   ]
  },
  {
   "cell_type": "markdown",
   "metadata": {},
   "source": [
    "## Build a linear regression model"
   ]
  },
  {
   "cell_type": "markdown",
   "metadata": {},
   "source": [
    "### 1. Ranking ~ Rating, reviewsCnt & Price"
   ]
  },
  {
   "cell_type": "code",
   "execution_count": null,
   "metadata": {},
   "outputs": [],
   "source": [
    "df_final.columns"
   ]
  },
  {
   "cell_type": "code",
   "execution_count": 100,
   "metadata": {},
   "outputs": [
    {
     "data": {
      "text/html": [
       "<table class=\"simpletable\">\n",
       "<caption>OLS Regression Results</caption>\n",
       "<tr>\n",
       "  <th>Dep. Variable:</th>         <td>Ranking</td>     <th>  R-squared (uncentered):</th>       <td>   0.932</td>  \n",
       "</tr>\n",
       "<tr>\n",
       "  <th>Model:</th>                   <td>OLS</td>       <th>  Adj. R-squared (uncentered):</th>  <td>   0.932</td>  \n",
       "</tr>\n",
       "<tr>\n",
       "  <th>Method:</th>             <td>Least Squares</td>  <th>  F-statistic:       </th>           <td>2.545e+05</td> \n",
       "</tr>\n",
       "<tr>\n",
       "  <th>Date:</th>             <td>Tue, 19 Jan 2021</td> <th>  Prob (F-statistic):</th>            <td>  0.00</td>   \n",
       "</tr>\n",
       "<tr>\n",
       "  <th>Time:</th>                 <td>09:12:20</td>     <th>  Log-Likelihood:    </th>          <td>-1.5428e+05</td>\n",
       "</tr>\n",
       "<tr>\n",
       "  <th>No. Observations:</th>      <td> 74225</td>      <th>  AIC:               </th>           <td>3.086e+05</td> \n",
       "</tr>\n",
       "<tr>\n",
       "  <th>Df Residuals:</th>          <td> 74221</td>      <th>  BIC:               </th>           <td>3.086e+05</td> \n",
       "</tr>\n",
       "<tr>\n",
       "  <th>Df Model:</th>              <td>     4</td>      <th>                     </th>               <td> </td>     \n",
       "</tr>\n",
       "<tr>\n",
       "  <th>Covariance Type:</th>      <td>nonrobust</td>    <th>                     </th>               <td> </td>     \n",
       "</tr>\n",
       "</table>\n",
       "<table class=\"simpletable\">\n",
       "<tr>\n",
       "       <td></td>         <th>coef</th>     <th>std err</th>      <th>t</th>      <th>P>|t|</th>  <th>[0.025</th>    <th>0.975]</th>  \n",
       "</tr>\n",
       "<tr>\n",
       "  <th>Rating</th>     <td>    1.7977</td> <td>    0.002</td> <td>  785.813</td> <td> 0.000</td> <td>    1.793</td> <td>    1.802</td>\n",
       "</tr>\n",
       "<tr>\n",
       "  <th>reviewsCnt</th> <td>   -0.0011</td> <td> 1.99e-05</td> <td>  -53.140</td> <td> 0.000</td> <td>   -0.001</td> <td>   -0.001</td>\n",
       "</tr>\n",
       "<tr>\n",
       "  <th>Price_high</th> <td>   -0.7558</td> <td>    0.032</td> <td>  -23.828</td> <td> 0.000</td> <td>   -0.818</td> <td>   -0.694</td>\n",
       "</tr>\n",
       "<tr>\n",
       "  <th>Price_low</th>  <td>    0.3292</td> <td>    0.017</td> <td>   19.370</td> <td> 0.000</td> <td>    0.296</td> <td>    0.363</td>\n",
       "</tr>\n",
       "</table>\n",
       "<table class=\"simpletable\">\n",
       "<tr>\n",
       "  <th>Omnibus:</th>       <td>512.149</td> <th>  Durbin-Watson:     </th> <td>   0.417</td> \n",
       "</tr>\n",
       "<tr>\n",
       "  <th>Prob(Omnibus):</th> <td> 0.000</td>  <th>  Jarque-Bera (JB):  </th> <td> 727.820</td> \n",
       "</tr>\n",
       "<tr>\n",
       "  <th>Skew:</th>          <td> 0.077</td>  <th>  Prob(JB):          </th> <td>9.03e-159</td>\n",
       "</tr>\n",
       "<tr>\n",
       "  <th>Kurtosis:</th>      <td> 3.460</td>  <th>  Cond. No.          </th> <td>1.81e+03</td> \n",
       "</tr>\n",
       "</table><br/><br/>Notes:<br/>[1] R² is computed without centering (uncentered) since the model does not contain a constant.<br/>[2] Standard Errors assume that the covariance matrix of the errors is correctly specified.<br/>[3] The condition number is large, 1.81e+03. This might indicate that there are<br/>strong multicollinearity or other numerical problems."
      ],
      "text/plain": [
       "<class 'statsmodels.iolib.summary.Summary'>\n",
       "\"\"\"\n",
       "                                 OLS Regression Results                                \n",
       "=======================================================================================\n",
       "Dep. Variable:                Ranking   R-squared (uncentered):                   0.932\n",
       "Model:                            OLS   Adj. R-squared (uncentered):              0.932\n",
       "Method:                 Least Squares   F-statistic:                          2.545e+05\n",
       "Date:                Tue, 19 Jan 2021   Prob (F-statistic):                        0.00\n",
       "Time:                        09:12:20   Log-Likelihood:                     -1.5428e+05\n",
       "No. Observations:               74225   AIC:                                  3.086e+05\n",
       "Df Residuals:                   74221   BIC:                                  3.086e+05\n",
       "Df Model:                           4                                                  \n",
       "Covariance Type:            nonrobust                                                  \n",
       "==============================================================================\n",
       "                 coef    std err          t      P>|t|      [0.025      0.975]\n",
       "------------------------------------------------------------------------------\n",
       "Rating         1.7977      0.002    785.813      0.000       1.793       1.802\n",
       "reviewsCnt    -0.0011   1.99e-05    -53.140      0.000      -0.001      -0.001\n",
       "Price_high    -0.7558      0.032    -23.828      0.000      -0.818      -0.694\n",
       "Price_low      0.3292      0.017     19.370      0.000       0.296       0.363\n",
       "==============================================================================\n",
       "Omnibus:                      512.149   Durbin-Watson:                   0.417\n",
       "Prob(Omnibus):                  0.000   Jarque-Bera (JB):              727.820\n",
       "Skew:                           0.077   Prob(JB):                    9.03e-159\n",
       "Kurtosis:                       3.460   Cond. No.                     1.81e+03\n",
       "==============================================================================\n",
       "\n",
       "Notes:\n",
       "[1] R² is computed without centering (uncentered) since the model does not contain a constant.\n",
       "[2] Standard Errors assume that the covariance matrix of the errors is correctly specified.\n",
       "[3] The condition number is large, 1.81e+03. This might indicate that there are\n",
       "strong multicollinearity or other numerical problems.\n",
       "\"\"\""
      ]
     },
     "execution_count": 100,
     "metadata": {},
     "output_type": "execute_result"
    }
   ],
   "source": [
    "# remove the price_low variable\n",
    "model_Ranking1 = sm.OLS(endog = np.log(df_numeric[['Ranking']]),exog = df_numeric[['Rating','reviewsCnt','Price_high','Price_low']]).fit()\n",
    "model_Ranking1.summary()"
   ]
  },
  {
   "cell_type": "markdown",
   "metadata": {},
   "source": [
    "### 2. Ranking ~ Rating & reviewsCnt"
   ]
  },
  {
   "cell_type": "code",
   "execution_count": 101,
   "metadata": {},
   "outputs": [
    {
     "data": {
      "text/html": [
       "<table class=\"simpletable\">\n",
       "<caption>OLS Regression Results</caption>\n",
       "<tr>\n",
       "  <th>Dep. Variable:</th>         <td>Ranking</td>     <th>  R-squared (uncentered):</th>       <td>   0.931</td>  \n",
       "</tr>\n",
       "<tr>\n",
       "  <th>Model:</th>                   <td>OLS</td>       <th>  Adj. R-squared (uncentered):</th>  <td>   0.931</td>  \n",
       "</tr>\n",
       "<tr>\n",
       "  <th>Method:</th>             <td>Least Squares</td>  <th>  F-statistic:       </th>           <td>5.011e+05</td> \n",
       "</tr>\n",
       "<tr>\n",
       "  <th>Date:</th>             <td>Tue, 19 Jan 2021</td> <th>  Prob (F-statistic):</th>            <td>  0.00</td>   \n",
       "</tr>\n",
       "<tr>\n",
       "  <th>Time:</th>                 <td>09:12:25</td>     <th>  Log-Likelihood:    </th>          <td>-1.5481e+05</td>\n",
       "</tr>\n",
       "<tr>\n",
       "  <th>No. Observations:</th>      <td> 74225</td>      <th>  AIC:               </th>           <td>3.096e+05</td> \n",
       "</tr>\n",
       "<tr>\n",
       "  <th>Df Residuals:</th>          <td> 74223</td>      <th>  BIC:               </th>           <td>3.096e+05</td> \n",
       "</tr>\n",
       "<tr>\n",
       "  <th>Df Model:</th>              <td>     2</td>      <th>                     </th>               <td> </td>     \n",
       "</tr>\n",
       "<tr>\n",
       "  <th>Covariance Type:</th>      <td>nonrobust</td>    <th>                     </th>               <td> </td>     \n",
       "</tr>\n",
       "</table>\n",
       "<table class=\"simpletable\">\n",
       "<tr>\n",
       "       <td></td>         <th>coef</th>     <th>std err</th>      <th>t</th>      <th>P>|t|</th>  <th>[0.025</th>    <th>0.975]</th>  \n",
       "</tr>\n",
       "<tr>\n",
       "  <th>Rating</th>     <td>    1.8112</td> <td>    0.002</td> <td>  925.109</td> <td> 0.000</td> <td>    1.807</td> <td>    1.815</td>\n",
       "</tr>\n",
       "<tr>\n",
       "  <th>reviewsCnt</th> <td>   -0.0012</td> <td> 1.97e-05</td> <td>  -58.930</td> <td> 0.000</td> <td>   -0.001</td> <td>   -0.001</td>\n",
       "</tr>\n",
       "</table>\n",
       "<table class=\"simpletable\">\n",
       "<tr>\n",
       "  <th>Omnibus:</th>       <td>655.453</td> <th>  Durbin-Watson:     </th> <td>   0.385</td> \n",
       "</tr>\n",
       "<tr>\n",
       "  <th>Prob(Omnibus):</th> <td> 0.000</td>  <th>  Jarque-Bera (JB):  </th> <td>1013.379</td> \n",
       "</tr>\n",
       "<tr>\n",
       "  <th>Skew:</th>          <td> 0.070</td>  <th>  Prob(JB):          </th> <td>8.86e-221</td>\n",
       "</tr>\n",
       "<tr>\n",
       "  <th>Kurtosis:</th>      <td> 3.555</td>  <th>  Cond. No.          </th> <td>    110.</td> \n",
       "</tr>\n",
       "</table><br/><br/>Notes:<br/>[1] R² is computed without centering (uncentered) since the model does not contain a constant.<br/>[2] Standard Errors assume that the covariance matrix of the errors is correctly specified."
      ],
      "text/plain": [
       "<class 'statsmodels.iolib.summary.Summary'>\n",
       "\"\"\"\n",
       "                                 OLS Regression Results                                \n",
       "=======================================================================================\n",
       "Dep. Variable:                Ranking   R-squared (uncentered):                   0.931\n",
       "Model:                            OLS   Adj. R-squared (uncentered):              0.931\n",
       "Method:                 Least Squares   F-statistic:                          5.011e+05\n",
       "Date:                Tue, 19 Jan 2021   Prob (F-statistic):                        0.00\n",
       "Time:                        09:12:25   Log-Likelihood:                     -1.5481e+05\n",
       "No. Observations:               74225   AIC:                                  3.096e+05\n",
       "Df Residuals:                   74223   BIC:                                  3.096e+05\n",
       "Df Model:                           2                                                  \n",
       "Covariance Type:            nonrobust                                                  \n",
       "==============================================================================\n",
       "                 coef    std err          t      P>|t|      [0.025      0.975]\n",
       "------------------------------------------------------------------------------\n",
       "Rating         1.8112      0.002    925.109      0.000       1.807       1.815\n",
       "reviewsCnt    -0.0012   1.97e-05    -58.930      0.000      -0.001      -0.001\n",
       "==============================================================================\n",
       "Omnibus:                      655.453   Durbin-Watson:                   0.385\n",
       "Prob(Omnibus):                  0.000   Jarque-Bera (JB):             1013.379\n",
       "Skew:                           0.070   Prob(JB):                    8.86e-221\n",
       "Kurtosis:                       3.555   Cond. No.                         110.\n",
       "==============================================================================\n",
       "\n",
       "Notes:\n",
       "[1] R² is computed without centering (uncentered) since the model does not contain a constant.\n",
       "[2] Standard Errors assume that the covariance matrix of the errors is correctly specified.\n",
       "\"\"\""
      ]
     },
     "execution_count": 101,
     "metadata": {},
     "output_type": "execute_result"
    }
   ],
   "source": [
    "model_Ranking2 = sm.OLS(endog = np.log(df_numeric[['Ranking']]),exog = df_numeric[['Rating','reviewsCnt']]).fit()\n",
    "model_Ranking2.summary()"
   ]
  },
  {
   "cell_type": "markdown",
   "metadata": {},
   "source": [
    "### 3. Ranking ~ Price"
   ]
  },
  {
   "cell_type": "code",
   "execution_count": 102,
   "metadata": {},
   "outputs": [
    {
     "data": {
      "text/html": [
       "<table class=\"simpletable\">\n",
       "<caption>OLS Regression Results</caption>\n",
       "<tr>\n",
       "  <th>Dep. Variable:</th>         <td>Ranking</td>     <th>  R-squared (uncentered):</th>       <td>   0.289</td>  \n",
       "</tr>\n",
       "<tr>\n",
       "  <th>Model:</th>                   <td>OLS</td>       <th>  Adj. R-squared (uncentered):</th>  <td>   0.289</td>  \n",
       "</tr>\n",
       "<tr>\n",
       "  <th>Method:</th>             <td>Least Squares</td>  <th>  F-statistic:       </th>           <td>1.512e+04</td> \n",
       "</tr>\n",
       "<tr>\n",
       "  <th>Date:</th>             <td>Tue, 19 Jan 2021</td> <th>  Prob (F-statistic):</th>            <td>  0.00</td>   \n",
       "</tr>\n",
       "<tr>\n",
       "  <th>Time:</th>                 <td>09:12:29</td>     <th>  Log-Likelihood:    </th>          <td>-2.4138e+05</td>\n",
       "</tr>\n",
       "<tr>\n",
       "  <th>No. Observations:</th>      <td> 74225</td>      <th>  AIC:               </th>           <td>4.828e+05</td> \n",
       "</tr>\n",
       "<tr>\n",
       "  <th>Df Residuals:</th>          <td> 74223</td>      <th>  BIC:               </th>           <td>4.828e+05</td> \n",
       "</tr>\n",
       "<tr>\n",
       "  <th>Df Model:</th>              <td>     2</td>      <th>                     </th>               <td> </td>     \n",
       "</tr>\n",
       "<tr>\n",
       "  <th>Covariance Type:</th>      <td>nonrobust</td>    <th>                     </th>               <td> </td>     \n",
       "</tr>\n",
       "</table>\n",
       "<table class=\"simpletable\">\n",
       "<tr>\n",
       "       <td></td>         <th>coef</th>     <th>std err</th>      <th>t</th>      <th>P>|t|</th>  <th>[0.025</th>    <th>0.975]</th>  \n",
       "</tr>\n",
       "<tr>\n",
       "  <th>Price_high</th> <td>    6.4181</td> <td>    0.098</td> <td>   65.520</td> <td> 0.000</td> <td>    6.226</td> <td>    6.610</td>\n",
       "</tr>\n",
       "<tr>\n",
       "  <th>Price_low</th>  <td>    7.5830</td> <td>    0.047</td> <td>  161.068</td> <td> 0.000</td> <td>    7.491</td> <td>    7.675</td>\n",
       "</tr>\n",
       "</table>\n",
       "<table class=\"simpletable\">\n",
       "<tr>\n",
       "  <th>Omnibus:</th>       <td>12855.932</td> <th>  Durbin-Watson:     </th> <td>   0.553</td>\n",
       "</tr>\n",
       "<tr>\n",
       "  <th>Prob(Omnibus):</th>  <td> 0.000</td>   <th>  Jarque-Bera (JB):  </th> <td>9203.090</td>\n",
       "</tr>\n",
       "<tr>\n",
       "  <th>Skew:</th>           <td>-0.757</td>   <th>  Prob(JB):          </th> <td>    0.00</td>\n",
       "</tr>\n",
       "<tr>\n",
       "  <th>Kurtosis:</th>       <td> 2.173</td>   <th>  Cond. No.          </th> <td>    2.08</td>\n",
       "</tr>\n",
       "</table><br/><br/>Notes:<br/>[1] R² is computed without centering (uncentered) since the model does not contain a constant.<br/>[2] Standard Errors assume that the covariance matrix of the errors is correctly specified."
      ],
      "text/plain": [
       "<class 'statsmodels.iolib.summary.Summary'>\n",
       "\"\"\"\n",
       "                                 OLS Regression Results                                \n",
       "=======================================================================================\n",
       "Dep. Variable:                Ranking   R-squared (uncentered):                   0.289\n",
       "Model:                            OLS   Adj. R-squared (uncentered):              0.289\n",
       "Method:                 Least Squares   F-statistic:                          1.512e+04\n",
       "Date:                Tue, 19 Jan 2021   Prob (F-statistic):                        0.00\n",
       "Time:                        09:12:29   Log-Likelihood:                     -2.4138e+05\n",
       "No. Observations:               74225   AIC:                                  4.828e+05\n",
       "Df Residuals:                   74223   BIC:                                  4.828e+05\n",
       "Df Model:                           2                                                  \n",
       "Covariance Type:            nonrobust                                                  \n",
       "==============================================================================\n",
       "                 coef    std err          t      P>|t|      [0.025      0.975]\n",
       "------------------------------------------------------------------------------\n",
       "Price_high     6.4181      0.098     65.520      0.000       6.226       6.610\n",
       "Price_low      7.5830      0.047    161.068      0.000       7.491       7.675\n",
       "==============================================================================\n",
       "Omnibus:                    12855.932   Durbin-Watson:                   0.553\n",
       "Prob(Omnibus):                  0.000   Jarque-Bera (JB):             9203.090\n",
       "Skew:                          -0.757   Prob(JB):                         0.00\n",
       "Kurtosis:                       2.173   Cond. No.                         2.08\n",
       "==============================================================================\n",
       "\n",
       "Notes:\n",
       "[1] R² is computed without centering (uncentered) since the model does not contain a constant.\n",
       "[2] Standard Errors assume that the covariance matrix of the errors is correctly specified.\n",
       "\"\"\""
      ]
     },
     "execution_count": 102,
     "metadata": {},
     "output_type": "execute_result"
    }
   ],
   "source": [
    "model_Ranking3 = sm.OLS(endog = np.log(df_numeric[['Ranking']]),exog = df_numeric[['Price_high','Price_low']]).fit()\n",
    "model_Ranking3.summary()"
   ]
  },
  {
   "cell_type": "markdown",
   "metadata": {},
   "source": [
    "### 4. Ranking ~ Price & reviewsCnt"
   ]
  },
  {
   "cell_type": "code",
   "execution_count": 103,
   "metadata": {},
   "outputs": [
    {
     "data": {
      "text/html": [
       "<table class=\"simpletable\">\n",
       "<caption>OLS Regression Results</caption>\n",
       "<tr>\n",
       "  <th>Dep. Variable:</th>         <td>Ranking</td>     <th>  R-squared (uncentered):</th>       <td>   0.367</td>  \n",
       "</tr>\n",
       "<tr>\n",
       "  <th>Model:</th>                   <td>OLS</td>       <th>  Adj. R-squared (uncentered):</th>  <td>   0.367</td>  \n",
       "</tr>\n",
       "<tr>\n",
       "  <th>Method:</th>             <td>Least Squares</td>  <th>  F-statistic:       </th>           <td>1.432e+04</td> \n",
       "</tr>\n",
       "<tr>\n",
       "  <th>Date:</th>             <td>Tue, 19 Jan 2021</td> <th>  Prob (F-statistic):</th>            <td>  0.00</td>   \n",
       "</tr>\n",
       "<tr>\n",
       "  <th>Time:</th>                 <td>09:12:32</td>     <th>  Log-Likelihood:    </th>          <td>-2.3712e+05</td>\n",
       "</tr>\n",
       "<tr>\n",
       "  <th>No. Observations:</th>      <td> 74225</td>      <th>  AIC:               </th>           <td>4.742e+05</td> \n",
       "</tr>\n",
       "<tr>\n",
       "  <th>Df Residuals:</th>          <td> 74222</td>      <th>  BIC:               </th>           <td>4.743e+05</td> \n",
       "</tr>\n",
       "<tr>\n",
       "  <th>Df Model:</th>              <td>     3</td>      <th>                     </th>               <td> </td>     \n",
       "</tr>\n",
       "<tr>\n",
       "  <th>Covariance Type:</th>      <td>nonrobust</td>    <th>                     </th>               <td> </td>     \n",
       "</tr>\n",
       "</table>\n",
       "<table class=\"simpletable\">\n",
       "<tr>\n",
       "       <td></td>         <th>coef</th>     <th>std err</th>      <th>t</th>      <th>P>|t|</th>  <th>[0.025</th>    <th>0.975]</th>  \n",
       "</tr>\n",
       "<tr>\n",
       "  <th>reviewsCnt</th> <td>    0.0053</td> <td> 5.54e-05</td> <td>   95.058</td> <td> 0.000</td> <td>    0.005</td> <td>    0.005</td>\n",
       "</tr>\n",
       "<tr>\n",
       "  <th>Price_high</th> <td>    4.5036</td> <td>    0.095</td> <td>   47.578</td> <td> 0.000</td> <td>    4.318</td> <td>    4.689</td>\n",
       "</tr>\n",
       "<tr>\n",
       "  <th>Price_low</th>  <td>    7.0914</td> <td>    0.045</td> <td>  158.462</td> <td> 0.000</td> <td>    7.004</td> <td>    7.179</td>\n",
       "</tr>\n",
       "</table>\n",
       "<table class=\"simpletable\">\n",
       "<tr>\n",
       "  <th>Omnibus:</th>       <td>35710.077</td> <th>  Durbin-Watson:     </th>  <td>   0.613</td> \n",
       "</tr>\n",
       "<tr>\n",
       "  <th>Prob(Omnibus):</th>  <td> 0.000</td>   <th>  Jarque-Bera (JB):  </th> <td>697690.339</td>\n",
       "</tr>\n",
       "<tr>\n",
       "  <th>Skew:</th>           <td>-1.855</td>   <th>  Prob(JB):          </th>  <td>    0.00</td> \n",
       "</tr>\n",
       "<tr>\n",
       "  <th>Kurtosis:</th>       <td>17.554</td>   <th>  Cond. No.          </th>  <td>1.76e+03</td> \n",
       "</tr>\n",
       "</table><br/><br/>Notes:<br/>[1] R² is computed without centering (uncentered) since the model does not contain a constant.<br/>[2] Standard Errors assume that the covariance matrix of the errors is correctly specified.<br/>[3] The condition number is large, 1.76e+03. This might indicate that there are<br/>strong multicollinearity or other numerical problems."
      ],
      "text/plain": [
       "<class 'statsmodels.iolib.summary.Summary'>\n",
       "\"\"\"\n",
       "                                 OLS Regression Results                                \n",
       "=======================================================================================\n",
       "Dep. Variable:                Ranking   R-squared (uncentered):                   0.367\n",
       "Model:                            OLS   Adj. R-squared (uncentered):              0.367\n",
       "Method:                 Least Squares   F-statistic:                          1.432e+04\n",
       "Date:                Tue, 19 Jan 2021   Prob (F-statistic):                        0.00\n",
       "Time:                        09:12:32   Log-Likelihood:                     -2.3712e+05\n",
       "No. Observations:               74225   AIC:                                  4.742e+05\n",
       "Df Residuals:                   74222   BIC:                                  4.743e+05\n",
       "Df Model:                           3                                                  \n",
       "Covariance Type:            nonrobust                                                  \n",
       "==============================================================================\n",
       "                 coef    std err          t      P>|t|      [0.025      0.975]\n",
       "------------------------------------------------------------------------------\n",
       "reviewsCnt     0.0053   5.54e-05     95.058      0.000       0.005       0.005\n",
       "Price_high     4.5036      0.095     47.578      0.000       4.318       4.689\n",
       "Price_low      7.0914      0.045    158.462      0.000       7.004       7.179\n",
       "==============================================================================\n",
       "Omnibus:                    35710.077   Durbin-Watson:                   0.613\n",
       "Prob(Omnibus):                  0.000   Jarque-Bera (JB):           697690.339\n",
       "Skew:                          -1.855   Prob(JB):                         0.00\n",
       "Kurtosis:                      17.554   Cond. No.                     1.76e+03\n",
       "==============================================================================\n",
       "\n",
       "Notes:\n",
       "[1] R² is computed without centering (uncentered) since the model does not contain a constant.\n",
       "[2] Standard Errors assume that the covariance matrix of the errors is correctly specified.\n",
       "[3] The condition number is large, 1.76e+03. This might indicate that there are\n",
       "strong multicollinearity or other numerical problems.\n",
       "\"\"\""
      ]
     },
     "execution_count": 103,
     "metadata": {},
     "output_type": "execute_result"
    }
   ],
   "source": [
    "model_Ranking4 = sm.OLS(endog = np.log(df_numeric[['Ranking']]),exog = df_numeric[['reviewsCnt','Price_high','Price_low']]).fit()\n",
    "model_Ranking4.summary()"
   ]
  },
  {
   "cell_type": "markdown",
   "metadata": {},
   "source": [
    "### 5. Ranking ~ Price & Rating"
   ]
  },
  {
   "cell_type": "code",
   "execution_count": 104,
   "metadata": {},
   "outputs": [
    {
     "data": {
      "text/html": [
       "<table class=\"simpletable\">\n",
       "<caption>OLS Regression Results</caption>\n",
       "<tr>\n",
       "  <th>Dep. Variable:</th>         <td>Ranking</td>     <th>  R-squared (uncentered):</th>       <td>   0.929</td>  \n",
       "</tr>\n",
       "<tr>\n",
       "  <th>Model:</th>                   <td>OLS</td>       <th>  Adj. R-squared (uncentered):</th>  <td>   0.929</td>  \n",
       "</tr>\n",
       "<tr>\n",
       "  <th>Method:</th>             <td>Least Squares</td>  <th>  F-statistic:       </th>           <td>3.259e+05</td> \n",
       "</tr>\n",
       "<tr>\n",
       "  <th>Date:</th>             <td>Tue, 19 Jan 2021</td> <th>  Prob (F-statistic):</th>            <td>  0.00</td>   \n",
       "</tr>\n",
       "<tr>\n",
       "  <th>Time:</th>                 <td>09:12:35</td>     <th>  Log-Likelihood:    </th>          <td>-1.5566e+05</td>\n",
       "</tr>\n",
       "<tr>\n",
       "  <th>No. Observations:</th>      <td> 74225</td>      <th>  AIC:               </th>           <td>3.113e+05</td> \n",
       "</tr>\n",
       "<tr>\n",
       "  <th>Df Residuals:</th>          <td> 74222</td>      <th>  BIC:               </th>           <td>3.114e+05</td> \n",
       "</tr>\n",
       "<tr>\n",
       "  <th>Df Model:</th>              <td>     3</td>      <th>                     </th>               <td> </td>     \n",
       "</tr>\n",
       "<tr>\n",
       "  <th>Covariance Type:</th>      <td>nonrobust</td>    <th>                     </th>               <td> </td>     \n",
       "</tr>\n",
       "</table>\n",
       "<table class=\"simpletable\">\n",
       "<tr>\n",
       "       <td></td>         <th>coef</th>     <th>std err</th>      <th>t</th>      <th>P>|t|</th>  <th>[0.025</th>    <th>0.975]</th>  \n",
       "</tr>\n",
       "<tr>\n",
       "  <th>Rating</th>     <td>    1.7484</td> <td>    0.002</td> <td>  820.539</td> <td> 0.000</td> <td>    1.744</td> <td>    1.753</td>\n",
       "</tr>\n",
       "<tr>\n",
       "  <th>Price_high</th> <td>   -0.9322</td> <td>    0.032</td> <td>  -29.005</td> <td> 0.000</td> <td>   -0.995</td> <td>   -0.869</td>\n",
       "</tr>\n",
       "<tr>\n",
       "  <th>Price_low</th>  <td>    0.4323</td> <td>    0.017</td> <td>   25.123</td> <td> 0.000</td> <td>    0.399</td> <td>    0.466</td>\n",
       "</tr>\n",
       "</table>\n",
       "<table class=\"simpletable\">\n",
       "<tr>\n",
       "  <th>Omnibus:</th>       <td>437.628</td> <th>  Durbin-Watson:     </th> <td>   0.299</td> \n",
       "</tr>\n",
       "<tr>\n",
       "  <th>Prob(Omnibus):</th> <td> 0.000</td>  <th>  Jarque-Bera (JB):  </th> <td> 619.016</td> \n",
       "</tr>\n",
       "<tr>\n",
       "  <th>Skew:</th>          <td>-0.059</td>  <th>  Prob(JB):          </th> <td>3.82e-135</td>\n",
       "</tr>\n",
       "<tr>\n",
       "  <th>Kurtosis:</th>      <td> 3.432</td>  <th>  Cond. No.          </th> <td>    18.1</td> \n",
       "</tr>\n",
       "</table><br/><br/>Notes:<br/>[1] R² is computed without centering (uncentered) since the model does not contain a constant.<br/>[2] Standard Errors assume that the covariance matrix of the errors is correctly specified."
      ],
      "text/plain": [
       "<class 'statsmodels.iolib.summary.Summary'>\n",
       "\"\"\"\n",
       "                                 OLS Regression Results                                \n",
       "=======================================================================================\n",
       "Dep. Variable:                Ranking   R-squared (uncentered):                   0.929\n",
       "Model:                            OLS   Adj. R-squared (uncentered):              0.929\n",
       "Method:                 Least Squares   F-statistic:                          3.259e+05\n",
       "Date:                Tue, 19 Jan 2021   Prob (F-statistic):                        0.00\n",
       "Time:                        09:12:35   Log-Likelihood:                     -1.5566e+05\n",
       "No. Observations:               74225   AIC:                                  3.113e+05\n",
       "Df Residuals:                   74222   BIC:                                  3.114e+05\n",
       "Df Model:                           3                                                  \n",
       "Covariance Type:            nonrobust                                                  \n",
       "==============================================================================\n",
       "                 coef    std err          t      P>|t|      [0.025      0.975]\n",
       "------------------------------------------------------------------------------\n",
       "Rating         1.7484      0.002    820.539      0.000       1.744       1.753\n",
       "Price_high    -0.9322      0.032    -29.005      0.000      -0.995      -0.869\n",
       "Price_low      0.4323      0.017     25.123      0.000       0.399       0.466\n",
       "==============================================================================\n",
       "Omnibus:                      437.628   Durbin-Watson:                   0.299\n",
       "Prob(Omnibus):                  0.000   Jarque-Bera (JB):              619.016\n",
       "Skew:                          -0.059   Prob(JB):                    3.82e-135\n",
       "Kurtosis:                       3.432   Cond. No.                         18.1\n",
       "==============================================================================\n",
       "\n",
       "Notes:\n",
       "[1] R² is computed without centering (uncentered) since the model does not contain a constant.\n",
       "[2] Standard Errors assume that the covariance matrix of the errors is correctly specified.\n",
       "\"\"\""
      ]
     },
     "execution_count": 104,
     "metadata": {},
     "output_type": "execute_result"
    }
   ],
   "source": [
    "model_Ranking5 = sm.OLS(endog = np.log(df_numeric[['Ranking']]),exog = df_numeric[['Rating','Price_high','Price_low']]).fit()\n",
    "model_Ranking5.summary()"
   ]
  },
  {
   "cell_type": "markdown",
   "metadata": {},
   "source": [
    "### 6. Ranking ~ Rating"
   ]
  },
  {
   "cell_type": "code",
   "execution_count": 106,
   "metadata": {},
   "outputs": [
    {
     "data": {
      "text/html": [
       "<table class=\"simpletable\">\n",
       "<caption>OLS Regression Results</caption>\n",
       "<tr>\n",
       "  <th>Dep. Variable:</th>         <td>Ranking</td>     <th>  R-squared (uncentered):</th>       <td>   0.928</td>  \n",
       "</tr>\n",
       "<tr>\n",
       "  <th>Model:</th>                   <td>OLS</td>       <th>  Adj. R-squared (uncentered):</th>  <td>   0.928</td>  \n",
       "</tr>\n",
       "<tr>\n",
       "  <th>Method:</th>             <td>Least Squares</td>  <th>  F-statistic:       </th>           <td>9.541e+05</td> \n",
       "</tr>\n",
       "<tr>\n",
       "  <th>Date:</th>             <td>Tue, 19 Jan 2021</td> <th>  Prob (F-statistic):</th>            <td>  0.00</td>   \n",
       "</tr>\n",
       "<tr>\n",
       "  <th>Time:</th>                 <td>09:12:42</td>     <th>  Log-Likelihood:    </th>          <td>-1.5651e+05</td>\n",
       "</tr>\n",
       "<tr>\n",
       "  <th>No. Observations:</th>      <td> 74225</td>      <th>  AIC:               </th>           <td>3.130e+05</td> \n",
       "</tr>\n",
       "<tr>\n",
       "  <th>Df Residuals:</th>          <td> 74224</td>      <th>  BIC:               </th>           <td>3.130e+05</td> \n",
       "</tr>\n",
       "<tr>\n",
       "  <th>Df Model:</th>              <td>     1</td>      <th>                     </th>               <td> </td>     \n",
       "</tr>\n",
       "<tr>\n",
       "  <th>Covariance Type:</th>      <td>nonrobust</td>    <th>                     </th>               <td> </td>     \n",
       "</tr>\n",
       "</table>\n",
       "<table class=\"simpletable\">\n",
       "<tr>\n",
       "     <td></td>       <th>coef</th>     <th>std err</th>      <th>t</th>      <th>P>|t|</th>  <th>[0.025</th>    <th>0.975]</th>  \n",
       "</tr>\n",
       "<tr>\n",
       "  <th>Rating</th> <td>    1.7609</td> <td>    0.002</td> <td>  976.777</td> <td> 0.000</td> <td>    1.757</td> <td>    1.764</td>\n",
       "</tr>\n",
       "</table>\n",
       "<table class=\"simpletable\">\n",
       "<tr>\n",
       "  <th>Omnibus:</th>       <td>572.176</td> <th>  Durbin-Watson:     </th> <td>   0.237</td> \n",
       "</tr>\n",
       "<tr>\n",
       "  <th>Prob(Omnibus):</th> <td> 0.000</td>  <th>  Jarque-Bera (JB):  </th> <td> 808.308</td> \n",
       "</tr>\n",
       "<tr>\n",
       "  <th>Skew:</th>          <td>-0.094</td>  <th>  Prob(JB):          </th> <td>3.01e-176</td>\n",
       "</tr>\n",
       "<tr>\n",
       "  <th>Kurtosis:</th>      <td> 3.475</td>  <th>  Cond. No.          </th> <td>    1.00</td> \n",
       "</tr>\n",
       "</table><br/><br/>Notes:<br/>[1] R² is computed without centering (uncentered) since the model does not contain a constant.<br/>[2] Standard Errors assume that the covariance matrix of the errors is correctly specified."
      ],
      "text/plain": [
       "<class 'statsmodels.iolib.summary.Summary'>\n",
       "\"\"\"\n",
       "                                 OLS Regression Results                                \n",
       "=======================================================================================\n",
       "Dep. Variable:                Ranking   R-squared (uncentered):                   0.928\n",
       "Model:                            OLS   Adj. R-squared (uncentered):              0.928\n",
       "Method:                 Least Squares   F-statistic:                          9.541e+05\n",
       "Date:                Tue, 19 Jan 2021   Prob (F-statistic):                        0.00\n",
       "Time:                        09:12:42   Log-Likelihood:                     -1.5651e+05\n",
       "No. Observations:               74225   AIC:                                  3.130e+05\n",
       "Df Residuals:                   74224   BIC:                                  3.130e+05\n",
       "Df Model:                           1                                                  \n",
       "Covariance Type:            nonrobust                                                  \n",
       "==============================================================================\n",
       "                 coef    std err          t      P>|t|      [0.025      0.975]\n",
       "------------------------------------------------------------------------------\n",
       "Rating         1.7609      0.002    976.777      0.000       1.757       1.764\n",
       "==============================================================================\n",
       "Omnibus:                      572.176   Durbin-Watson:                   0.237\n",
       "Prob(Omnibus):                  0.000   Jarque-Bera (JB):              808.308\n",
       "Skew:                          -0.094   Prob(JB):                    3.01e-176\n",
       "Kurtosis:                       3.475   Cond. No.                         1.00\n",
       "==============================================================================\n",
       "\n",
       "Notes:\n",
       "[1] R² is computed without centering (uncentered) since the model does not contain a constant.\n",
       "[2] Standard Errors assume that the covariance matrix of the errors is correctly specified.\n",
       "\"\"\""
      ]
     },
     "execution_count": 106,
     "metadata": {},
     "output_type": "execute_result"
    }
   ],
   "source": [
    "model_Ranking6 = sm.OLS(endog = np.log(df_numeric[['Ranking']]),exog = df_numeric[['Rating']]).fit()\n",
    "model_Ranking6.summary()"
   ]
  },
  {
   "cell_type": "markdown",
   "metadata": {},
   "source": [
    "### 7. Ranking ~ reviewsCnt"
   ]
  },
  {
   "cell_type": "code",
   "execution_count": 107,
   "metadata": {},
   "outputs": [
    {
     "data": {
      "text/html": [
       "<table class=\"simpletable\">\n",
       "<caption>OLS Regression Results</caption>\n",
       "<tr>\n",
       "  <th>Dep. Variable:</th>         <td>Ranking</td>     <th>  R-squared (uncentered):</th>       <td>   0.136</td>  \n",
       "</tr>\n",
       "<tr>\n",
       "  <th>Model:</th>                   <td>OLS</td>       <th>  Adj. R-squared (uncentered):</th>  <td>   0.136</td>  \n",
       "</tr>\n",
       "<tr>\n",
       "  <th>Method:</th>             <td>Least Squares</td>  <th>  F-statistic:       </th>           <td>1.168e+04</td> \n",
       "</tr>\n",
       "<tr>\n",
       "  <th>Date:</th>             <td>Tue, 19 Jan 2021</td> <th>  Prob (F-statistic):</th>            <td>  0.00</td>   \n",
       "</tr>\n",
       "<tr>\n",
       "  <th>Time:</th>                 <td>09:12:44</td>     <th>  Log-Likelihood:    </th>          <td>-2.4864e+05</td>\n",
       "</tr>\n",
       "<tr>\n",
       "  <th>No. Observations:</th>      <td> 74225</td>      <th>  AIC:               </th>           <td>4.973e+05</td> \n",
       "</tr>\n",
       "<tr>\n",
       "  <th>Df Residuals:</th>          <td> 74224</td>      <th>  BIC:               </th>           <td>4.973e+05</td> \n",
       "</tr>\n",
       "<tr>\n",
       "  <th>Df Model:</th>              <td>     1</td>      <th>                     </th>               <td> </td>     \n",
       "</tr>\n",
       "<tr>\n",
       "  <th>Covariance Type:</th>      <td>nonrobust</td>    <th>                     </th>               <td> </td>     \n",
       "</tr>\n",
       "</table>\n",
       "<table class=\"simpletable\">\n",
       "<tr>\n",
       "       <td></td>         <th>coef</th>     <th>std err</th>      <th>t</th>      <th>P>|t|</th>  <th>[0.025</th>    <th>0.975]</th>  \n",
       "</tr>\n",
       "<tr>\n",
       "  <th>reviewsCnt</th> <td>    0.0068</td> <td> 6.28e-05</td> <td>  108.078</td> <td> 0.000</td> <td>    0.007</td> <td>    0.007</td>\n",
       "</tr>\n",
       "</table>\n",
       "<table class=\"simpletable\">\n",
       "<tr>\n",
       "  <th>Omnibus:</th>       <td>84607.925</td> <th>  Durbin-Watson:     </th>   <td>   0.170</td>  \n",
       "</tr>\n",
       "<tr>\n",
       "  <th>Prob(Omnibus):</th>  <td> 0.000</td>   <th>  Jarque-Bera (JB):  </th> <td>22434600.357</td>\n",
       "</tr>\n",
       "<tr>\n",
       "  <th>Skew:</th>           <td>-5.588</td>   <th>  Prob(JB):          </th>   <td>    0.00</td>  \n",
       "</tr>\n",
       "<tr>\n",
       "  <th>Kurtosis:</th>       <td>87.434</td>   <th>  Cond. No.          </th>   <td>    1.00</td>  \n",
       "</tr>\n",
       "</table><br/><br/>Notes:<br/>[1] R² is computed without centering (uncentered) since the model does not contain a constant.<br/>[2] Standard Errors assume that the covariance matrix of the errors is correctly specified."
      ],
      "text/plain": [
       "<class 'statsmodels.iolib.summary.Summary'>\n",
       "\"\"\"\n",
       "                                 OLS Regression Results                                \n",
       "=======================================================================================\n",
       "Dep. Variable:                Ranking   R-squared (uncentered):                   0.136\n",
       "Model:                            OLS   Adj. R-squared (uncentered):              0.136\n",
       "Method:                 Least Squares   F-statistic:                          1.168e+04\n",
       "Date:                Tue, 19 Jan 2021   Prob (F-statistic):                        0.00\n",
       "Time:                        09:12:44   Log-Likelihood:                     -2.4864e+05\n",
       "No. Observations:               74225   AIC:                                  4.973e+05\n",
       "Df Residuals:                   74224   BIC:                                  4.973e+05\n",
       "Df Model:                           1                                                  \n",
       "Covariance Type:            nonrobust                                                  \n",
       "==============================================================================\n",
       "                 coef    std err          t      P>|t|      [0.025      0.975]\n",
       "------------------------------------------------------------------------------\n",
       "reviewsCnt     0.0068   6.28e-05    108.078      0.000       0.007       0.007\n",
       "==============================================================================\n",
       "Omnibus:                    84607.925   Durbin-Watson:                   0.170\n",
       "Prob(Omnibus):                  0.000   Jarque-Bera (JB):         22434600.357\n",
       "Skew:                          -5.588   Prob(JB):                         0.00\n",
       "Kurtosis:                      87.434   Cond. No.                         1.00\n",
       "==============================================================================\n",
       "\n",
       "Notes:\n",
       "[1] R² is computed without centering (uncentered) since the model does not contain a constant.\n",
       "[2] Standard Errors assume that the covariance matrix of the errors is correctly specified.\n",
       "\"\"\""
      ]
     },
     "execution_count": 107,
     "metadata": {},
     "output_type": "execute_result"
    }
   ],
   "source": [
    "model_Ranking7 = sm.OLS(endog = np.log(df_numeric[['Ranking']]),exog = df_numeric[['reviewsCnt']]).fit()\n",
    "model_Ranking7.summary()"
   ]
  },
  {
   "cell_type": "markdown",
   "metadata": {},
   "source": [
    "## Residual Analysis"
   ]
  },
  {
   "cell_type": "code",
   "execution_count": 115,
   "metadata": {},
   "outputs": [
    {
     "data": {
      "image/png": "[encoded data removed]",
      "text/plain": [
       "<Figure size 921.6x633.6 with 1 Axes>"
      ]
     },
     "metadata": {},
     "output_type": "display_data"
    }
   ],
   "source": [
    "# plot \n",
    "model_Ranking_Residual = model_Ranking2\n",
    "plt.scatter(model_Ranking_Residual.fittedvalues, model_Ranking_Residual.resid)\n",
    "# adding title and labels\n",
    "plt.xlabel('Fitted Restaurant Ranking')\n",
    "plt.ylabel('Residual')\n",
    "plt.axhline(y= -1,color=\"b\",linestyle = \"--\")\n",
    "plt.axhline(y = 1,color=\"b\",linestyle = \"--\")\n",
    "plt.title('Residual vs. Fitted Plot of Restaurant Ranking')\n",
    "plt.ylim(-2,2)\n",
    "plt.show()"
   ]
  },
  {
   "cell_type": "markdown",
   "metadata": {},
   "source": [
    "## Logic Regression"
   ]
  },
  {
   "cell_type": "code",
   "execution_count": null,
   "metadata": {},
   "outputs": [],
   "source": [
    "df_numeric.columns"
   ]
  },
  {
   "cell_type": "code",
   "execution_count": 242,
   "metadata": {},
   "outputs": [
    {
     "name": "stderr",
     "output_type": "stream",
     "text": [
      "/opt/conda/envs/sds2020/lib/python3.7/site-packages/sklearn/utils/validation.py:72: DataConversionWarning: A column-vector y was passed when a 1d array was expected. Please change the shape of y to (n_samples, ), for example using ravel().\n",
      "  return f(**kwargs)\n"
     ]
    },
    {
     "name": "stdout",
     "output_type": "stream",
     "text": [
      "------------------------------------------\n",
      "Print the model:\n",
      "Rating : -1.3032277452948113\n",
      "reviewsCnt : -0.004277604169782776\n",
      "Price_high : 1.0160310064949718\n",
      "Price_low : 1.495884284774907\n",
      "Price_medium : 1.2045411945587656\n",
      "------------------------------------------\n",
      "Accuracy of the model is: 0.7133849781071068\n",
      "The confusion matrix is:\n"
     ]
    },
    {
     "data": {
      "image/png": "[encoded data removed]",
      "text/plain": [
       "<Figure size 1080x360 with 2 Axes>"
      ]
     },
     "metadata": {},
     "output_type": "display_data"
    }
   ],
   "source": [
    "plt.style.use(\"seaborn-poster\")\n",
    "# If daily rental is larger than 4500, it is of Class 'True'. Otherwise, it is in Class 'False'.\n",
    "threshold_bike_rental = df_numeric['Ranking'].mean()\n",
    "\n",
    "# X = df_numeric[['Ranking', 'Rating', 'reviewsCnt', 'Price_high', 'Price_low','Price_medium']]\n",
    "X = df_numeric[['Rating','reviewsCnt','Price_high','Price_low','Price_medium']]\n",
    "y = df_numeric[['Ranking']] > threshold_bike_rental\n",
    "###################\n",
    "\n",
    "logreg = LogisticRegression()\n",
    "logreg.fit(X, y)\n",
    "y_pred=logreg.predict(X)\n",
    "\n",
    "# print the coefficient in the model\n",
    "print(\"------------------------------------------\")\n",
    "print(\"Print the model:\")\n",
    "coef_dict = {}\n",
    "for coef, feat in zip(logreg.coef_.flatten().tolist(),X.columns):\n",
    "    coef_dict[feat] = coef\n",
    "    print(feat, \":\", coef)\n",
    "print(\"------------------------------------------\")\n",
    "    \n",
    "acc = sklearn.metrics.accuracy_score(y,y_pred)\n",
    "print(\"Accuracy of the model is: \" + str(acc))\n",
    "\n",
    "# Another evaluation: confusion matrix\n",
    "print(\"The confusion matrix is:\")\n",
    "cm=confusion_matrix(y,y_pred)\n",
    "conf_matrix=pd.DataFrame(data=cm,columns=['Predicted:0 (<= Average)','Predicted:1 (>Average)'],index=['Actual:0 (<= Average)','Actual:1 (>Average)'])\n",
    "# plt.figure(figsize = (8,5))\n",
    "# sns.heatmap(conf_matrix, annot=True,fmt='d',cmap=\"YlGnBu\")\n",
    "\n",
    "fig_logic, ax_logic = plt.subplots(figsize=(15,5))\n",
    "sn.heatmap(conf_matrix, annot=True,fmt='d',cmap=\"YlGnBu\", ax = ax_logic)\n",
    "fig_logic.savefig(\"LogisticRegression.png\")"
   ]
  },
  {
   "cell_type": "code",
   "execution_count": null,
   "metadata": {},
   "outputs": [],
   "source": []
  }
 ],
 "metadata": {
  "kernelspec": {
   "display_name": "Python 3",
   "language": "python",
   "name": "python3"
  },
  "language_info": {
   "codemirror_mode": {
    "name": "ipython",
    "version": 3
   },
   "file_extension": ".py",
   "mimetype": "text/x-python",
   "name": "python",
   "nbconvert_exporter": "python",
   "pygments_lexer": "ipython3",
   "version": "3.7.0"
  }
 },
 "nbformat": 4,
 "nbformat_minor": 4
}
